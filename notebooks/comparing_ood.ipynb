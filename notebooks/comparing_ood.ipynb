{
 "cells": [
  {
   "cell_type": "code",
   "execution_count": 1,
   "id": "61c3aa38-8bbb-4666-91cd-6eceb2ce9b50",
   "metadata": {},
   "outputs": [],
   "source": [
    "# %pip install pyod"
   ]
  },
  {
   "cell_type": "code",
   "execution_count": 1,
   "id": "5f2a0f56-1f2c-435c-94ff-90e0f678405c",
   "metadata": {},
   "outputs": [],
   "source": [
    "%load_ext autoreload\n",
    "%autoreload 2\n",
    "import os\n",
    "os.environ[\"CUDA_VISIBLE_DEVICES\"]=\"3\"\n",
    "import sys\n",
    "module_path = os.path.abspath(os.path.join('..'))\n",
    "if module_path not in sys.path:\n",
    "    sys.path.append(module_path)\n",
    "os.chdir(module_path)"
   ]
  },
  {
   "cell_type": "code",
   "execution_count": 2,
   "id": "0dc0886e-415f-495e-8bf1-1c12aca4dc64",
   "metadata": {},
   "outputs": [],
   "source": [
    "# adbench_path = \"/workspace/ADBench/\"\n",
    "adbench_path = \"/workspace/categorical-dsm/adbench_minimal/\"\n",
    "if adbench_path not in sys.path:\n",
    "    sys.path.append(adbench_path)"
   ]
  },
  {
   "cell_type": "code",
   "execution_count": 3,
   "id": "6af88168-6c3e-45b6-8a4c-d0b5734b5b6c",
   "metadata": {},
   "outputs": [],
   "source": [
    "import torch\n",
    "import torch.nn.functional as F\n",
    "import matplotlib.pyplot as plt\n",
    "import seaborn as sns\n",
    "import numpy as np\n",
    "import pandas as pd\n",
    "from torchinfo import summary\n",
    "from models.score_base import TabScoreModel\n",
    "\n",
    "import seaborn as sns\n",
    "import matplotlib as mpl\n",
    "\n",
    "mpl.rc('figure', figsize=(10, 4), dpi=100)\n",
    "sns.set_theme()"
   ]
  },
  {
   "cell_type": "code",
   "execution_count": 4,
   "id": "09ab3845-3a30-4b02-b555-e061491bb5f4",
   "metadata": {},
   "outputs": [],
   "source": [
    "from dataloader import get_dataset, build_tabular_ds\n",
    "from torch.utils.data import DataLoader\n",
    "from models.mutils import onehot_to_logit"
   ]
  },
  {
   "cell_type": "code",
   "execution_count": 5,
   "id": "6e3660e6-b790-4e29-bc91-391582ab397a",
   "metadata": {},
   "outputs": [
    {
     "data": {
      "text/plain": [
       "anomaly_label: 50000+.\n",
       "categories:\n",
       "- 9\n",
       "- 17\n",
       "- 3\n",
       "- 7\n",
       "- 24\n",
       "- 15\n",
       "- 5\n",
       "- 10\n",
       "- 2\n",
       "- 3\n",
       "- 6\n",
       "- 8\n",
       "- 6\n",
       "- 6\n",
       "- 51\n",
       "- 38\n",
       "- 8\n",
       "- 10\n",
       "- 9\n",
       "- 10\n",
       "- 3\n",
       "- 4\n",
       "- 5\n",
       "- 43\n",
       "- 43\n",
       "- 43\n",
       "- 5\n",
       "- 3\n",
       "dataset: census\n",
       "label_column: class\n",
       "numerical_features: 5"
      ]
     },
     "execution_count": 5,
     "metadata": {},
     "output_type": "execute_result"
    }
   ],
   "source": [
    "from configs import census_config\n",
    "\n",
    "config = census_config.get_config()\n",
    "config.model.estimate_noise = True\n",
    "config.model.ndims=2048\n",
    "config.model.layers=16\n",
    "config.msma.denoise=False\n",
    "config.data"
   ]
  },
  {
   "cell_type": "code",
   "execution_count": 6,
   "id": "a421c45e-c3c2-4981-95ca-ea0aa846f966",
   "metadata": {},
   "outputs": [],
   "source": [
    "import runner\n",
    "workdir = \"workdir/census/kl_deep/\"\n",
    "# runner.eval(config, workdir)"
   ]
  },
  {
   "cell_type": "code",
   "execution_count": 7,
   "id": "91d1d9bc",
   "metadata": {},
   "outputs": [],
   "source": [
    "from ood_detection_helper import ood_metrics, auxiliary_model_analysis\n",
    "from pyod.utils.data import evaluate_print\n",
    "from pyod.utils.example import visualize"
   ]
  },
  {
   "cell_type": "code",
   "execution_count": 8,
   "id": "3ccba2cc-8434-43b4-8b42-caf8c57071ba",
   "metadata": {},
   "outputs": [],
   "source": [
    "def get_msma_results(ckpt_num=-1):\n",
    "    #TODO: USE PYOD MODELS!\n",
    "    denoise = config.msma.denoise\n",
    "    ckpt_dir = os.path.join(workdir, \"checkpoints\")\n",
    "    ckpts = sorted(os.listdir(ckpt_dir))\n",
    "    ckpt = ckpts[ckpt_num]\n",
    "    step = ckpt.split(\"-\")[0]\n",
    "    fname = os.path.join(\n",
    "            workdir, \"score_norms\", f\"{step}-{'denoise' if denoise else ''}-score_norms.npz\"\n",
    "        )\n",
    "    with np.load(fname, allow_pickle=True) as npzfile:\n",
    "        outdict = {k: npzfile[k].item() for k in npzfile.files}\n",
    "\n",
    "\n",
    "    X_train = outdict[\"val\"][\"score_norms\"]\n",
    "    test_labels = outdict[\"test\"][\"labels\"]\n",
    "    X_test = outdict[\"test\"][\"score_norms\"][test_labels == 0]\n",
    "    X_ano = outdict[\"test\"][\"score_norms\"][test_labels == 1]\n",
    "    results = auxiliary_model_analysis(X_train, X_test, [X_ano],\n",
    "                                    components_range=range(5,6,1),\n",
    "                                    labels=[\"Train\", \"Inlier\", \"Outlier\"])\n",
    "    \n",
    "    return results"
   ]
  },
  {
   "cell_type": "code",
   "execution_count": 8,
   "id": "654cec1c-519d-4345-aa8e-1066f94e5417",
   "metadata": {},
   "outputs": [
    {
     "name": "stdout",
     "output_type": "stream",
     "text": [
      "========================= Training GMM =========================\n",
      "Fitting 5 folds for each of 1 candidates, totalling 5 fits\n",
      "Best: 0.325495 using {'GMM__covariance_type': 'full', 'GMM__n_components': 5}\n",
      "---------------------------------------------------------------------------\n",
      "0.325495 (0.436729) with: {'GMM__covariance_type': 'full', 'GMM__n_components': 5}\n"
     ]
    },
    {
     "data": {
      "image/png": "[encoded data removed]",
      "text/plain": [
       "<Figure size 432x288 with 1 Axes>"
      ]
     },
     "metadata": {
      "needs_background": "light"
     },
     "output_type": "display_data"
    },
    {
     "name": "stdout",
     "output_type": "stream",
     "text": [
      "---Likelihoods---\n",
      "Training: 6.977\n",
      "Inlier: 6.909\n",
      "Outlier: 4.013\n",
      "========================= Training KD Tree =========================\n"
     ]
    },
    {
     "data": {
      "text/plain": [
       "dict_keys(['GMM', 'KD'])"
      ]
     },
     "execution_count": 8,
     "metadata": {},
     "output_type": "execute_result"
    }
   ],
   "source": [
    "msma_results = get_msma_results()\n",
    "msma_results.keys()"
   ]
  },
  {
   "cell_type": "code",
   "execution_count": 10,
   "id": "6fcd293b-e341-49eb-bc62-7c0fee9ddf22",
   "metadata": {},
   "outputs": [
    {
     "data": {
      "text/plain": [
       "{'train_scores': array([ 7.49575055,  5.42485977,  3.65926147, ...,  8.34841021,\n",
       "        10.20906093,  6.65576493]),\n",
       " 'test_scores': array([ 8.68917056,  3.0818735 , 12.64466801, ..., 10.23384858,\n",
       "         4.48699284,  3.26512033]),\n",
       " 'ood_scores': array([[ 0.50340636,  4.8327023 ,  2.07654411, ...,  5.14643821,\n",
       "          7.89120162, -1.61514127]]),\n",
       " 'metrics':                 ap         de  fpr_tpr80  fpr_tpr95  pr_auc_in  pr_auc_out  \\\n",
       " Outlier  54.927261  35.022998  49.641979  72.195504  54.921831   78.864662   \n",
       " \n",
       "            roc_auc  \n",
       " Outlier  69.399022  }"
      ]
     },
     "execution_count": 10,
     "metadata": {},
     "output_type": "execute_result"
    }
   ],
   "source": [
    "msma_results[\"GMM\"]"
   ]
  },
  {
   "cell_type": "code",
   "execution_count": 9,
   "id": "dfbd8efd-5078-4e94-a929-b5d31ebf7b11",
   "metadata": {},
   "outputs": [],
   "source": [
    "train_loader, val_loader, test_loader = get_dataset(config, train_mode=False)"
   ]
  },
  {
   "cell_type": "code",
   "execution_count": 10,
   "id": "3b0ede55-47af-4aad-88db-18f255a2d4e3",
   "metadata": {},
   "outputs": [
    {
     "data": {
      "text/plain": [
       "(252646, 401)"
      ]
     },
     "execution_count": 10,
     "metadata": {},
     "output_type": "execute_result"
    }
   ],
   "source": [
    "X_val = np.concatenate([x[0].numpy() for x in val_loader])\n",
    "X_train_ = np.concatenate([x[0].numpy() for x in train_loader])\n",
    "X_train = np.concatenate((X_train_, X_val))\n",
    "X_train.shape"
   ]
  },
  {
   "cell_type": "code",
   "execution_count": 11,
   "id": "7b172a25-efff-4fff-8e2a-c65e59c07395",
   "metadata": {},
   "outputs": [],
   "source": [
    "y_train = np.zeros(X_train.shape[0])"
   ]
  },
  {
   "cell_type": "code",
   "execution_count": 12,
   "id": "9ac7dc03-40cb-4df8-b3b1-4f3b61a5555b",
   "metadata": {},
   "outputs": [],
   "source": [
    "y_labels = []\n",
    "X_test = []\n",
    "for x,y in test_loader:\n",
    "    X_test.append(x)\n",
    "    y_labels.append(y)\n",
    "    \n",
    "X_test = np.concatenate(X_test)\n",
    "y_labels = np.concatenate(y_labels)"
   ]
  },
  {
   "cell_type": "code",
   "execution_count": 13,
   "id": "6dd910be-e181-4e17-a688-4fb1cef41e31",
   "metadata": {},
   "outputs": [
    {
     "data": {
      "text/plain": [
       "((46639, 401), (46639,))"
      ]
     },
     "execution_count": 13,
     "metadata": {},
     "output_type": "execute_result"
    }
   ],
   "source": [
    "X_test.shape, y_labels.shape"
   ]
  },
  {
   "cell_type": "code",
   "execution_count": 14,
   "id": "9c161b53-8336-4e93-9829-fe50210699cd",
   "metadata": {},
   "outputs": [],
   "source": [
    "from adbench_minimal.baseline.DAGMM.run import DAGMM as modded_DAGMM"
   ]
  },
  {
   "cell_type": "code",
   "execution_count": 15,
   "id": "84e6509a-2836-4f26-bd69-e192d85f302f",
   "metadata": {},
   "outputs": [
    {
     "data": {
      "text/plain": [
       "adbench_minimal.baseline.DAGMM.run.DAGMM"
      ]
     },
     "execution_count": 15,
     "metadata": {},
     "output_type": "execute_result"
    }
   ],
   "source": [
    "modded_DAGMM"
   ]
  },
  {
   "cell_type": "code",
   "execution_count": 16,
   "id": "1d6b60bf-484c-46e2-b589-9ca7b3aa9b8c",
   "metadata": {},
   "outputs": [
    {
     "name": "stdout",
     "output_type": "stream",
     "text": [
      "number of gpu: 1\n",
      "cuda name: NVIDIA RTX A6000\n",
      "GPU is on\n",
      "using the params: 4\n"
     ]
    },
    {
     "name": "stderr",
     "output_type": "stream",
     "text": [
      "/workspace/categorical-dsm/adbench_minimal/baseline/DAGMM/forward_step.py:79: UserWarning: torch.cholesky is deprecated in favor of torch.linalg.cholesky and will be removed in a future PyTorch release.\n",
      "L = torch.cholesky(A)\n",
      "should be replaced with\n",
      "L = torch.linalg.cholesky(A)\n",
      "and\n",
      "U = torch.cholesky(A, upper=True)\n",
      "should be replaced with\n",
      "U = torch.linalg.cholesky(A).mH().\n",
      "This transform will produce equivalent results for all valid (symmetric positive definite) inputs. (Triggered internally at /opt/pytorch/pytorch/aten/src/ATen/native/BatchLinearAlgebra.cpp:1722.)\n",
      "  l = torch.cholesky(a, False)\n"
     ]
    },
    {
     "name": "stdout",
     "output_type": "stream",
     "text": [
      "Epoch: 0, Loss: 48578738.268\n",
      "Epoch: 10, Loss: 48578727.915\n",
      "Epoch: 20, Loss: 48578733.306\n",
      "Epoch: 30, Loss: 48578711.497\n",
      "Epoch: 40, Loss: 48578738.280\n",
      "Epoch: 50, Loss: 48578741.400\n",
      "Epoch: 60, Loss: 48578733.002\n",
      "Epoch: 70, Loss: 48578715.761\n",
      "Epoch: 80, Loss: 48578724.471\n",
      "Epoch: 90, Loss: 48578731.112\n",
      "Epoch: 100, Loss: 48578730.126\n",
      "Epoch: 110, Loss: 48578716.819\n",
      "Epoch: 120, Loss: 48578740.101\n",
      "Epoch: 130, Loss: 48578735.688\n",
      "Epoch: 140, Loss: 48578717.241\n",
      "Epoch: 150, Loss: 48578717.327\n",
      "Epoch: 160, Loss: 48578726.329\n",
      "Epoch: 170, Loss: 48578734.004\n",
      "Epoch: 180, Loss: 48578743.968\n",
      "Epoch: 190, Loss: 48578726.763\n"
     ]
    },
    {
     "data": {
      "text/plain": [
       "=================================================================\n",
       "Layer (type:depth-idx)                   Param #\n",
       "=================================================================\n",
       "DAGMM                                    --\n",
       "├─Linear: 1-1                            24,120\n",
       "├─Linear: 1-2                            1,830\n",
       "├─Linear: 1-3                            310\n",
       "├─Linear: 1-4                            11\n",
       "├─Linear: 1-5                            20\n",
       "├─Linear: 1-6                            330\n",
       "├─Linear: 1-7                            1,860\n",
       "├─Linear: 1-8                            24,461\n",
       "├─Linear: 1-9                            40\n",
       "├─Linear: 1-10                           44\n",
       "=================================================================\n",
       "Total params: 53,026\n",
       "Trainable params: 53,026\n",
       "Non-trainable params: 0\n",
       "================================================================="
      ]
     },
     "execution_count": 16,
     "metadata": {},
     "output_type": "execute_result"
    }
   ],
   "source": [
    "# model initialization\n",
    "clf = modded_DAGMM(seed=42, model_name=\"dagmm\", hidden_dims=[60, 30, 10], tune=False)\n",
    "clf = clf.fit(X_train=X_train, y_train=y_train, ratio=0.2)\n",
    "summary(clf.model.model)"
   ]
  },
  {
   "cell_type": "code",
   "execution_count": 17,
   "id": "75f27cc5-558a-4dff-8e8b-4b45c0059032",
   "metadata": {},
   "outputs": [
    {
     "name": "stdout",
     "output_type": "stream",
     "text": [
      "Testing...\n",
      "----------------\n",
      "ROC-AUC: 48.3372\n",
      "PR-AUC (In/Out): 38.6471 / 58.9184\n",
      "FPR (95% TPR): 95.83%\n",
      "Detection Error: 49.56%\n"
     ]
    },
    {
     "data": {
      "image/png": "[encoded data removed]",
      "text/plain": [
       "<Figure size 1152x288 with 2 Axes>"
      ]
     },
     "metadata": {
      "needs_background": "light"
     },
     "output_type": "display_data"
    }
   ],
   "source": [
    "score = clf.predict_score(X_train, X_test[1::2])\n",
    "\n",
    "results = ood_metrics(score[y_labels[1::2]==0], score[y_labels[1::2]==1], plot=True, verbose=True)"
   ]
  },
  {
   "cell_type": "code",
   "execution_count": null,
   "id": "d4e8fbe6-4707-4462-a71e-adbeced9bb16",
   "metadata": {},
   "outputs": [
    {
     "name": "stdout",
     "output_type": "stream",
     "text": [
      "number of gpu: 1\n",
      "cuda name: NVIDIA RTX A6000\n",
      "GPU is on\n",
      "using the params: 4\n",
      "Epoch: 0, Loss: 40697198.970\n",
      "Epoch: 10, Loss: 40697200.252\n",
      "Epoch: 20, Loss: 40697194.428\n",
      "Epoch: 30, Loss: 40697203.136\n",
      "Epoch: 40, Loss: 40697203.584\n",
      "Epoch: 50, Loss: 40697208.915\n",
      "Epoch: 60, Loss: 40697190.576\n",
      "Epoch: 70, Loss: 40697189.550\n"
     ]
    }
   ],
   "source": [
    "# model initialization\n",
    "clf = modded_DAGMM(seed=42, model_name=\"dagmm\", hidden_dims=[128, 64, 32], latent_dim=4, lr=3e-4, tune=False)\n",
    "clf = clf.fit(X_train=X_train, y_train=y_train, ratio=0.2)\n",
    "summary(clf.model.model)"
   ]
  },
  {
   "cell_type": "code",
   "execution_count": 19,
   "id": "d1159b8b-692c-4358-a505-9c8356b9abfa",
   "metadata": {},
   "outputs": [],
   "source": [
    "# summary(clf.model.model)"
   ]
  },
  {
   "cell_type": "code",
   "execution_count": null,
   "id": "db61b5ed-87b8-4761-86b9-1fe02a151a69",
   "metadata": {},
   "outputs": [],
   "source": [
    "score = clf.predict_score(X_train, X_test[1::2])\n",
    "results = ood_metrics(score[y_labels[1::2]==0], score[y_labels[1::2]==1], plot=True, verbose=True)"
   ]
  },
  {
   "cell_type": "code",
   "execution_count": 25,
   "id": "d3cbf527-da0c-4828-98d6-78463654cf60",
   "metadata": {},
   "outputs": [],
   "source": [
    "# train an ECOD detector\n",
    "from pyod.models.ecod import ECOD\n",
    "clf = ECOD()\n",
    "clf.fit(X_train)\n",
    "\n",
    "# get outlier scores\n",
    "y_train_scores = clf.decision_scores_  # raw outlier scores on the train data\n",
    "y_test_scores = clf.decision_function(X_test)  # predict raw outlier scores on test\n"
   ]
  },
  {
   "cell_type": "code",
   "execution_count": 31,
   "id": "2133efe5-7a08-4613-b6f3-5b3a31550517",
   "metadata": {},
   "outputs": [],
   "source": [
    "y_train_pred = clf.labels_  # binary labels (0: inliers, 1: outliers)\n",
    "y_test_pred = clf.predict(X_test)  # outlier labels (0 or 1)"
   ]
  },
  {
   "cell_type": "code",
   "execution_count": 26,
   "id": "0088312a-ad06-4976-ae58-da3940db6626",
   "metadata": {},
   "outputs": [
    {
     "data": {
      "text/plain": [
       "array([32.39758328, 51.28013137, 36.69141262, 48.15539863, 83.98769243,\n",
       "       60.14595204, 32.54692095, 77.18953911, 49.15872515, 55.05823813])"
      ]
     },
     "execution_count": 26,
     "metadata": {},
     "output_type": "execute_result"
    }
   ],
   "source": [
    "y_test_scores[:10]"
   ]
  },
  {
   "cell_type": "code",
   "execution_count": 28,
   "id": "28ab0381-1eeb-474e-ae55-043c59a99d69",
   "metadata": {},
   "outputs": [
    {
     "name": "stdout",
     "output_type": "stream",
     "text": [
      "----------------\n",
      "ROC-AUC: 46.7260\n",
      "PR-AUC (In/Out): 36.2938 / 60.3436\n",
      "FPR (95% TPR): 93.97%\n",
      "Detection Error: 47.35%\n"
     ]
    },
    {
     "data": {
      "text/plain": [
       "{'fpr_tpr95': 0.9396530226924584,\n",
       " 'de': 0.47345163425155495,\n",
       " 'roc_auc': 0.46726016215483385,\n",
       " 'pr_auc_in': 0.3629376630198865,\n",
       " 'pr_auc_out': 0.6034358145072192,\n",
       " 'fpr_tpr80': 0.7413344732998468,\n",
       " 'ap': 0.3629945811414923}"
      ]
     },
     "execution_count": 28,
     "metadata": {},
     "output_type": "execute_result"
    },
    {
     "data": {
      "image/png": "[encoded data removed]",
      "text/plain": [
       "<Figure size 1152x288 with 2 Axes>"
      ]
     },
     "metadata": {
      "needs_background": "light"
     },
     "output_type": "display_data"
    }
   ],
   "source": [
    "ood_metrics(y_test_scores[y_labels==0], y_test_scores[y_labels==1], plot=True, verbose=True)"
   ]
  },
  {
   "cell_type": "code",
   "execution_count": 66,
   "id": "56e28bd2-5a91-42c2-bd9e-83911f63710d",
   "metadata": {},
   "outputs": [
    {
     "data": {
      "text/plain": [
       "18568"
      ]
     },
     "execution_count": 66,
     "metadata": {},
     "output_type": "execute_result"
    }
   ],
   "source": [
    "ood_scores.shape[0]"
   ]
  },
  {
   "cell_type": "code",
   "execution_count": 67,
   "id": "ac9bb072-26f8-4959-8d75-aef596ddd2f0",
   "metadata": {},
   "outputs": [],
   "source": [
    "id_scores = msma_results[\"GMM\"][\"test_scores\"]\n",
    "ood_scores = msma_results[\"GMM\"][\"ood_scores\"].squeeze()\n",
    "\n",
    "msma_labels=np.concatenate((np.zeros(id_scores.shape[0]), np.ones(ood_scores.shape[0])))\n",
    "msma_scores=-np.concatenate((id_scores, ood_scores))"
   ]
  },
  {
   "cell_type": "code",
   "execution_count": 68,
   "id": "eebde5bd-1de9-4191-9183-697a26d3ec40",
   "metadata": {},
   "outputs": [
    {
     "name": "stdout",
     "output_type": "stream",
     "text": [
      "MSMA ROC:0.6937, precision @ rank n:0.5497\n"
     ]
    }
   ],
   "source": [
    "evaluate_print(\"MSMA\", msma_labels, msma_scores)"
   ]
  },
  {
   "cell_type": "code",
   "execution_count": 70,
   "id": "ed483866-26d5-4586-8272-857b9db3b231",
   "metadata": {},
   "outputs": [
    {
     "name": "stdout",
     "output_type": "stream",
     "text": [
      "ECOD ROC:0.4673, precision @ rank n:0.3446\n"
     ]
    }
   ],
   "source": [
    "evaluate_print(\"ECOD\", y_labels, y_test_scores)\n",
    "\n",
    "# visualize the results\n",
    "# visualize(\"ECOD\", X_train[:, 1:5:2], y_train, X_test[:, 1:5:2], y_labels, y_train_pred,\n",
    "#               y_test_pred, show_figure=True, save_figure=False)"
   ]
  },
  {
   "cell_type": "markdown",
   "id": "a4cb255a-572e-49d9-a711-35660f5625f1",
   "metadata": {},
   "source": [
    "### AD Bench Test"
   ]
  },
  {
   "cell_type": "code",
   "execution_count": 138,
   "id": "852e1ff7-bb5a-457d-97b4-60d0d240c1d5",
   "metadata": {},
   "outputs": [],
   "source": [
    "# %pip install barbar"
   ]
  },
  {
   "cell_type": "code",
   "execution_count": 143,
   "id": "25bfc74d-1892-42f2-a054-b8060971be4a",
   "metadata": {},
   "outputs": [
    {
     "data": {
      "text/html": [
       "<div>\n",
       "<style scoped>\n",
       "    .dataframe tbody tr th:only-of-type {\n",
       "        vertical-align: middle;\n",
       "    }\n",
       "\n",
       "    .dataframe tbody tr th {\n",
       "        vertical-align: top;\n",
       "    }\n",
       "\n",
       "    .dataframe thead th {\n",
       "        text-align: right;\n",
       "    }\n",
       "</style>\n",
       "<table border=\"1\" class=\"dataframe\">\n",
       "  <thead>\n",
       "    <tr style=\"text-align: right;\">\n",
       "      <th></th>\n",
       "      <th>ap</th>\n",
       "      <th>de</th>\n",
       "      <th>fpr_tpr80</th>\n",
       "      <th>fpr_tpr95</th>\n",
       "      <th>pr_auc_in</th>\n",
       "      <th>pr_auc_out</th>\n",
       "      <th>roc_auc</th>\n",
       "    </tr>\n",
       "  </thead>\n",
       "  <tbody>\n",
       "    <tr>\n",
       "      <th>MSMA-GMM</th>\n",
       "      <td>54.886684</td>\n",
       "      <td>34.966113</td>\n",
       "      <td>49.599231</td>\n",
       "      <td>72.241815</td>\n",
       "      <td>54.881348</td>\n",
       "      <td>78.858775</td>\n",
       "      <td>69.368872</td>\n",
       "    </tr>\n",
       "    <tr>\n",
       "      <th>IForest</th>\n",
       "      <td>NaN</td>\n",
       "      <td>NaN</td>\n",
       "      <td>NaN</td>\n",
       "      <td>NaN</td>\n",
       "      <td>NaN</td>\n",
       "      <td>NaN</td>\n",
       "      <td>NaN</td>\n",
       "    </tr>\n",
       "    <tr>\n",
       "      <th>ECOD</th>\n",
       "      <td>NaN</td>\n",
       "      <td>NaN</td>\n",
       "      <td>NaN</td>\n",
       "      <td>NaN</td>\n",
       "      <td>NaN</td>\n",
       "      <td>NaN</td>\n",
       "      <td>NaN</td>\n",
       "    </tr>\n",
       "    <tr>\n",
       "      <th>DeepSVDD</th>\n",
       "      <td>NaN</td>\n",
       "      <td>NaN</td>\n",
       "      <td>NaN</td>\n",
       "      <td>NaN</td>\n",
       "      <td>NaN</td>\n",
       "      <td>NaN</td>\n",
       "      <td>NaN</td>\n",
       "    </tr>\n",
       "    <tr>\n",
       "      <th>DAGMM</th>\n",
       "      <td>NaN</td>\n",
       "      <td>NaN</td>\n",
       "      <td>NaN</td>\n",
       "      <td>NaN</td>\n",
       "      <td>NaN</td>\n",
       "      <td>NaN</td>\n",
       "      <td>NaN</td>\n",
       "    </tr>\n",
       "  </tbody>\n",
       "</table>\n",
       "</div>"
      ],
      "text/plain": [
       "                 ap         de  fpr_tpr80  fpr_tpr95  pr_auc_in pr_auc_out  \\\n",
       "MSMA-GMM  54.886684  34.966113  49.599231  72.241815  54.881348  78.858775   \n",
       "IForest         NaN        NaN        NaN        NaN        NaN        NaN   \n",
       "ECOD            NaN        NaN        NaN        NaN        NaN        NaN   \n",
       "DeepSVDD        NaN        NaN        NaN        NaN        NaN        NaN   \n",
       "DAGMM           NaN        NaN        NaN        NaN        NaN        NaN   \n",
       "\n",
       "            roc_auc  \n",
       "MSMA-GMM  69.368872  \n",
       "IForest         NaN  \n",
       "ECOD            NaN  \n",
       "DeepSVDD        NaN  \n",
       "DAGMM           NaN  "
      ]
     },
     "execution_count": 143,
     "metadata": {},
     "output_type": "execute_result"
    }
   ],
   "source": [
    "from baseline.PyOD import PYOD\n",
    "from baseline.DAGMM.run import DAGMM\n",
    "from myutils import Utils\n",
    "utils = Utils() \n",
    "\n",
    "dataset_list = [\"Census\"]\n",
    "model_dict = {'IForest': PYOD, 'ECOD': PYOD, 'DeepSVDD': PYOD, 'DAGMM':DAGMM}\n",
    "model_list = list(model_dict.keys())\n",
    "\n",
    "# save the results\n",
    "df_metrics = pd.DataFrame(data=None, index=[\"MSMA-GMM\"]+model_list, columns = msma_results[\"GMM\"][\"metrics\"].columns)\n",
    "df_metrics.loc[\"MSMA-GMM\", :] = msma_results[\"GMM\"][\"metrics\"].squeeze()\n",
    "df_metrics"
   ]
  },
  {
   "cell_type": "code",
   "execution_count": null,
   "id": "c8bfa910-93dc-40e9-aa72-3f9136eb69e0",
   "metadata": {},
   "outputs": [],
   "source": [
    "PYOD()"
   ]
  },
  {
   "cell_type": "code",
   "execution_count": 115,
   "id": "0deca8d6-d11d-41e5-9dfe-2e4654c22c49",
   "metadata": {},
   "outputs": [
    {
     "data": {
      "text/plain": [
       "0.24853100614367363"
      ]
     },
     "execution_count": 115,
     "metadata": {},
     "output_type": "execute_result"
    }
   ],
   "source": [
    "y_labels.sum()/(y_train.shape[0]+y_labels.shape[0])"
   ]
  },
  {
   "cell_type": "code",
   "execution_count": 119,
   "id": "f34e13e9-5c45-4c33-bf93-245827f99af7",
   "metadata": {
    "collapsed": true,
    "jupyter": {
     "outputs_hidden": true
    },
    "tags": []
   },
   "outputs": [
    {
     "name": "stdout",
     "output_type": "stream",
     "text": [
      "Running: IForest\n",
      "-----------------------\n",
      "The candidate hyper-parameter of IForest: [10, 50, 100, 500],  corresponding metric: [0.1648374987471663, 0.16236770042958654, 0.15313182152713184, 0.15471421601415009]  the best candidate: 10\n",
      "best param: 10\n",
      "----------------\n",
      "ROC-AUC: 45.4066\n",
      "PR-AUC (In/Out): 38.2483 / 55.0272\n",
      "FPR (95% TPR): 86.51%\n",
      "Detection Error: 49.62%\n",
      "Running: DeepSVDD\n",
      "-----------------------\n",
      "Model: \"model_8\"\n",
      "_________________________________________________________________\n",
      " Layer (type)                Output Shape              Param #   \n",
      "=================================================================\n",
      " input_6 (InputLayer)        [(None, 401)]             0         \n",
      "                                                                 \n",
      " dense_5 (Dense)             (None, 64)                25664     \n",
      "                                                                 \n",
      " net_output (Dense)          (None, 32)                2048      \n",
      "                                                                 \n",
      " tf.math.subtract_5 (TFOpLam  (None, 32)               0         \n",
      " bda)                                                            \n",
      "                                                                 \n",
      " tf.math.pow_5 (TFOpLambda)  (None, 32)                0         \n",
      "                                                                 \n",
      " tf.math.reduce_sum_5 (TFOpL  (None,)                  0         \n",
      " ambda)                                                          \n",
      "                                                                 \n",
      " tf.math.reduce_mean_5 (TFOp  ()                       0         \n",
      " Lambda)                                                         \n",
      "                                                                 \n",
      " tf.__operators__.add_5 (TFO  ()                       0         \n",
      " pLambda)                                                        \n",
      "                                                                 \n",
      " add_loss_5 (AddLoss)        ()                        0         \n",
      "                                                                 \n",
      "=================================================================\n",
      "Total params: 27,712\n",
      "Trainable params: 27,712\n",
      "Non-trainable params: 0\n",
      "_________________________________________________________________\n",
      "None\n",
      "Epoch 1/20\n",
      "656/656 [==============================] - 3s 4ms/step - loss: 9.1005 - val_loss: 13.1537\n",
      "Epoch 2/20\n",
      "656/656 [==============================] - 3s 5ms/step - loss: 3.9552 - val_loss: 9.5965\n",
      "Epoch 3/20\n",
      "656/656 [==============================] - 2s 4ms/step - loss: 2.8448 - val_loss: 7.5330\n",
      "Epoch 4/20\n",
      "656/656 [==============================] - 2s 3ms/step - loss: 2.2566 - val_loss: 6.1239\n",
      "Epoch 5/20\n",
      "656/656 [==============================] - 2s 4ms/step - loss: 1.8853 - val_loss: 4.7542\n",
      "Epoch 6/20\n",
      "656/656 [==============================] - 3s 5ms/step - loss: 1.6537 - val_loss: 3.7782\n",
      "Epoch 7/20\n",
      "656/656 [==============================] - 2s 3ms/step - loss: 1.4571 - val_loss: 3.0765\n",
      "Epoch 8/20\n",
      "656/656 [==============================] - 2s 2ms/step - loss: 1.3026 - val_loss: 2.5317\n",
      "Epoch 9/20\n",
      "656/656 [==============================] - 1s 2ms/step - loss: 1.1915 - val_loss: 2.0567\n",
      "Epoch 10/20\n",
      "656/656 [==============================] - 2s 3ms/step - loss: 1.0958 - val_loss: 1.8383\n",
      "Epoch 11/20\n",
      "656/656 [==============================] - 3s 5ms/step - loss: 1.0223 - val_loss: 1.5044\n",
      "Epoch 12/20\n",
      "656/656 [==============================] - 2s 3ms/step - loss: 0.9573 - val_loss: 1.3782\n",
      "Epoch 13/20\n",
      "656/656 [==============================] - 3s 5ms/step - loss: 0.9041 - val_loss: 1.2647\n",
      "Epoch 14/20\n",
      "656/656 [==============================] - 3s 5ms/step - loss: 0.8674 - val_loss: 1.1976\n",
      "Epoch 15/20\n",
      "656/656 [==============================] - 2s 3ms/step - loss: 0.8455 - val_loss: 1.1671\n",
      "Epoch 16/20\n",
      "656/656 [==============================] - 3s 4ms/step - loss: 0.8271 - val_loss: 1.1591\n",
      "Epoch 17/20\n",
      "656/656 [==============================] - 3s 4ms/step - loss: 0.7923 - val_loss: 1.0408\n",
      "Epoch 18/20\n",
      "656/656 [==============================] - 2s 3ms/step - loss: 0.7951 - val_loss: 1.0947\n",
      "Epoch 19/20\n",
      "656/656 [==============================] - 1s 2ms/step - loss: 0.7703 - val_loss: 1.0505\n",
      "Epoch 20/20\n",
      "656/656 [==============================] - 2s 3ms/step - loss: 0.7639 - val_loss: 1.0159\n",
      "Model: \"model_11\"\n",
      "_________________________________________________________________\n",
      " Layer (type)                Output Shape              Param #   \n",
      "=================================================================\n",
      " input_8 (InputLayer)        [(None, 401)]             0         \n",
      "                                                                 \n",
      " dense_7 (Dense)             (None, 64)                25664     \n",
      "                                                                 \n",
      " net_output (Dense)          (None, 32)                2048      \n",
      "                                                                 \n",
      " tf.math.subtract_7 (TFOpLam  (None, 32)               0         \n",
      " bda)                                                            \n",
      "                                                                 \n",
      " tf.math.pow_7 (TFOpLambda)  (None, 32)                0         \n",
      "                                                                 \n",
      " tf.math.reduce_sum_7 (TFOpL  (None,)                  0         \n",
      " ambda)                                                          \n",
      "                                                                 \n",
      " tf.math.reduce_mean_7 (TFOp  ()                       0         \n",
      " Lambda)                                                         \n",
      "                                                                 \n",
      " tf.__operators__.add_7 (TFO  ()                       0         \n",
      " pLambda)                                                        \n",
      "                                                                 \n",
      " add_loss_7 (AddLoss)        ()                        0         \n",
      "                                                                 \n",
      "=================================================================\n",
      "Total params: 27,712\n",
      "Trainable params: 27,712\n",
      "Non-trainable params: 0\n",
      "_________________________________________________________________\n",
      "None\n",
      "Epoch 1/50\n",
      "656/656 [==============================] - 3s 4ms/step - loss: 9.2256 - val_loss: 5.4311\n",
      "Epoch 2/50\n",
      "656/656 [==============================] - 2s 4ms/step - loss: 4.1968 - val_loss: 4.0900\n",
      "Epoch 3/50\n",
      "656/656 [==============================] - 2s 2ms/step - loss: 2.9397 - val_loss: 3.1438\n",
      "Epoch 4/50\n",
      "656/656 [==============================] - 2s 3ms/step - loss: 2.2141 - val_loss: 2.5729\n",
      "Epoch 5/50\n",
      "656/656 [==============================] - 2s 3ms/step - loss: 1.7935 - val_loss: 2.1518\n",
      "Epoch 6/50\n",
      "656/656 [==============================] - 3s 4ms/step - loss: 1.5328 - val_loss: 1.8520\n",
      "Epoch 7/50\n",
      "656/656 [==============================] - 2s 4ms/step - loss: 1.3405 - val_loss: 1.5963\n",
      "Epoch 8/50\n",
      "656/656 [==============================] - 3s 4ms/step - loss: 1.2092 - val_loss: 1.3889\n",
      "Epoch 9/50\n",
      "656/656 [==============================] - 3s 4ms/step - loss: 1.1098 - val_loss: 1.2503\n",
      "Epoch 10/50\n",
      "656/656 [==============================] - 2s 4ms/step - loss: 1.0336 - val_loss: 1.1540\n",
      "Epoch 11/50\n",
      "656/656 [==============================] - 2s 3ms/step - loss: 0.9966 - val_loss: 1.1368\n",
      "Epoch 12/50\n",
      "656/656 [==============================] - 3s 4ms/step - loss: 0.9542 - val_loss: 0.9969\n",
      "Epoch 13/50\n",
      "656/656 [==============================] - 3s 5ms/step - loss: 0.9142 - val_loss: 0.9471\n",
      "Epoch 14/50\n",
      "656/656 [==============================] - 2s 3ms/step - loss: 0.8730 - val_loss: 0.9165\n",
      "Epoch 15/50\n",
      "656/656 [==============================] - 1s 2ms/step - loss: 0.8509 - val_loss: 0.8668\n",
      "Epoch 16/50\n",
      "656/656 [==============================] - 2s 3ms/step - loss: 0.8349 - val_loss: 0.8855\n",
      "Epoch 17/50\n",
      "656/656 [==============================] - 1s 2ms/step - loss: 0.8264 - val_loss: 0.8305\n",
      "Epoch 18/50\n",
      "656/656 [==============================] - 3s 4ms/step - loss: 0.8218 - val_loss: 0.8619\n",
      "Epoch 19/50\n",
      "656/656 [==============================] - 3s 5ms/step - loss: 0.8220 - val_loss: 0.8309\n",
      "Epoch 20/50\n",
      "656/656 [==============================] - 3s 4ms/step - loss: 0.8053 - val_loss: 0.8125\n",
      "Epoch 21/50\n",
      "656/656 [==============================] - 2s 3ms/step - loss: 0.7998 - val_loss: 0.8137\n",
      "Epoch 22/50\n",
      "656/656 [==============================] - 1s 2ms/step - loss: 0.8030 - val_loss: 0.8107\n",
      "Epoch 23/50\n",
      "656/656 [==============================] - 3s 4ms/step - loss: 0.7931 - val_loss: 0.8075\n",
      "Epoch 24/50\n",
      "656/656 [==============================] - 2s 3ms/step - loss: 0.7941 - val_loss: 0.8064\n",
      "Epoch 25/50\n",
      "656/656 [==============================] - 2s 4ms/step - loss: 0.8164 - val_loss: 0.8370\n",
      "Epoch 26/50\n",
      "656/656 [==============================] - 3s 4ms/step - loss: 0.7978 - val_loss: 0.8011\n",
      "Epoch 27/50\n",
      "656/656 [==============================] - 3s 4ms/step - loss: 0.8075 - val_loss: 0.8303\n",
      "Epoch 28/50\n",
      "656/656 [==============================] - 2s 3ms/step - loss: 0.7930 - val_loss: 0.7998\n",
      "Epoch 29/50\n",
      "656/656 [==============================] - 3s 4ms/step - loss: 0.7997 - val_loss: 0.8235\n",
      "Epoch 30/50\n",
      "656/656 [==============================] - 3s 5ms/step - loss: 0.8024 - val_loss: 0.7947\n",
      "Epoch 31/50\n",
      "656/656 [==============================] - 3s 4ms/step - loss: 0.7950 - val_loss: 0.8136\n",
      "Epoch 32/50\n",
      "656/656 [==============================] - 2s 4ms/step - loss: 0.7868 - val_loss: 0.8086\n",
      "Epoch 33/50\n",
      "656/656 [==============================] - 3s 4ms/step - loss: 0.7923 - val_loss: 0.8230\n",
      "Epoch 34/50\n",
      "656/656 [==============================] - 2s 2ms/step - loss: 0.8173 - val_loss: 0.8111\n",
      "Epoch 35/50\n",
      "656/656 [==============================] - 1s 2ms/step - loss: 0.7810 - val_loss: 0.7774\n",
      "Epoch 36/50\n",
      "656/656 [==============================] - 2s 4ms/step - loss: 0.8050 - val_loss: 0.7853\n",
      "Epoch 37/50\n",
      "656/656 [==============================] - 3s 4ms/step - loss: 0.7983 - val_loss: 0.8481\n",
      "Epoch 38/50\n",
      "656/656 [==============================] - 2s 3ms/step - loss: 0.7978 - val_loss: 0.7933\n",
      "Epoch 39/50\n",
      "656/656 [==============================] - 1s 2ms/step - loss: 0.7935 - val_loss: 0.8155\n",
      "Epoch 40/50\n",
      "656/656 [==============================] - 1s 2ms/step - loss: 0.7859 - val_loss: 0.7994\n",
      "Epoch 41/50\n",
      "656/656 [==============================] - 1s 2ms/step - loss: 0.8154 - val_loss: 0.8172\n",
      "Epoch 42/50\n",
      "656/656 [==============================] - 2s 3ms/step - loss: 0.8077 - val_loss: 0.8398\n",
      "Epoch 43/50\n",
      "656/656 [==============================] - 3s 4ms/step - loss: 0.7851 - val_loss: 0.7889\n",
      "Epoch 44/50\n",
      "656/656 [==============================] - 3s 4ms/step - loss: 0.7925 - val_loss: 0.8080\n",
      "Epoch 45/50\n",
      "656/656 [==============================] - 3s 5ms/step - loss: 0.8043 - val_loss: 0.8185\n",
      "Epoch 46/50\n",
      "656/656 [==============================] - 2s 3ms/step - loss: 0.7871 - val_loss: 0.8032\n",
      "Epoch 47/50\n",
      "656/656 [==============================] - 2s 4ms/step - loss: 0.7952 - val_loss: 0.7974\n",
      "Epoch 48/50\n",
      "656/656 [==============================] - 3s 5ms/step - loss: 0.7930 - val_loss: 0.8798\n",
      "Epoch 49/50\n",
      "656/656 [==============================] - 2s 3ms/step - loss: 0.8059 - val_loss: 0.8131\n",
      "Epoch 50/50\n",
      "656/656 [==============================] - 3s 4ms/step - loss: 0.7967 - val_loss: 0.8624\n",
      "Model: \"model_14\"\n",
      "_________________________________________________________________\n",
      " Layer (type)                Output Shape              Param #   \n",
      "=================================================================\n",
      " input_10 (InputLayer)       [(None, 401)]             0         \n",
      "                                                                 \n",
      " dense_9 (Dense)             (None, 64)                25664     \n",
      "                                                                 \n",
      " net_output (Dense)          (None, 32)                2048      \n",
      "                                                                 \n",
      " tf.math.subtract_9 (TFOpLam  (None, 32)               0         \n",
      " bda)                                                            \n",
      "                                                                 \n",
      " tf.math.pow_9 (TFOpLambda)  (None, 32)                0         \n",
      "                                                                 \n",
      " tf.math.reduce_sum_9 (TFOpL  (None,)                  0         \n",
      " ambda)                                                          \n",
      "                                                                 \n",
      " tf.math.reduce_mean_9 (TFOp  ()                       0         \n",
      " Lambda)                                                         \n",
      "                                                                 \n",
      " tf.__operators__.add_9 (TFO  ()                       0         \n",
      " pLambda)                                                        \n",
      "                                                                 \n",
      " add_loss_9 (AddLoss)        ()                        0         \n",
      "                                                                 \n",
      "=================================================================\n",
      "Total params: 27,712\n",
      "Trainable params: 27,712\n",
      "Non-trainable params: 0\n",
      "_________________________________________________________________\n",
      "None\n",
      "Epoch 1/100\n",
      "656/656 [==============================] - 2s 3ms/step - loss: 9.2905 - val_loss: 4.6775\n",
      "Epoch 2/100\n",
      "656/656 [==============================] - 1s 2ms/step - loss: 4.7716 - val_loss: 2.7085\n",
      "Epoch 3/100\n",
      "656/656 [==============================] - 1s 2ms/step - loss: 2.6963 - val_loss: 1.9515\n",
      "Epoch 4/100\n",
      "656/656 [==============================] - 3s 4ms/step - loss: 2.1882 - val_loss: 1.6321\n",
      "Epoch 5/100\n",
      "656/656 [==============================] - 2s 3ms/step - loss: 1.8723 - val_loss: 1.4249\n",
      "Epoch 6/100\n",
      "656/656 [==============================] - 2s 3ms/step - loss: 1.6745 - val_loss: 1.3329\n",
      "Epoch 7/100\n",
      "656/656 [==============================] - 1s 2ms/step - loss: 1.4972 - val_loss: 1.2594\n",
      "Epoch 8/100\n",
      "656/656 [==============================] - 2s 3ms/step - loss: 1.4007 - val_loss: 1.2554\n",
      "Epoch 9/100\n",
      "656/656 [==============================] - 3s 4ms/step - loss: 1.3048 - val_loss: 1.2491\n",
      "Epoch 10/100\n",
      "656/656 [==============================] - 3s 4ms/step - loss: 1.2439 - val_loss: 1.1320\n",
      "Epoch 11/100\n",
      "656/656 [==============================] - 3s 5ms/step - loss: 1.1850 - val_loss: 1.1399\n",
      "Epoch 12/100\n",
      "656/656 [==============================] - 3s 5ms/step - loss: 1.1442 - val_loss: 1.1417\n",
      "Epoch 13/100\n",
      "656/656 [==============================] - 2s 3ms/step - loss: 1.1038 - val_loss: 1.0702\n",
      "Epoch 14/100\n",
      "656/656 [==============================] - 3s 5ms/step - loss: 1.0884 - val_loss: 1.1577\n",
      "Epoch 15/100\n",
      "656/656 [==============================] - 3s 5ms/step - loss: 1.0774 - val_loss: 1.0689\n",
      "Epoch 16/100\n",
      "656/656 [==============================] - 2s 4ms/step - loss: 1.0556 - val_loss: 1.0583\n",
      "Epoch 17/100\n",
      "656/656 [==============================] - 3s 5ms/step - loss: 1.0642 - val_loss: 1.0489\n",
      "Epoch 18/100\n",
      "656/656 [==============================] - 3s 5ms/step - loss: 1.0395 - val_loss: 1.1047\n",
      "Epoch 19/100\n",
      "656/656 [==============================] - 2s 3ms/step - loss: 1.0488 - val_loss: 1.0603\n",
      "Epoch 20/100\n",
      "656/656 [==============================] - 2s 3ms/step - loss: 1.0362 - val_loss: 1.0453\n",
      "Epoch 21/100\n",
      "656/656 [==============================] - 2s 2ms/step - loss: 1.0391 - val_loss: 1.0665\n",
      "Epoch 22/100\n",
      "656/656 [==============================] - 2s 3ms/step - loss: 1.0413 - val_loss: 1.1006\n",
      "Epoch 23/100\n",
      "656/656 [==============================] - 1s 2ms/step - loss: 1.0682 - val_loss: 1.0619\n",
      "Epoch 24/100\n",
      "656/656 [==============================] - 2s 3ms/step - loss: 1.0199 - val_loss: 1.0370\n",
      "Epoch 25/100\n",
      "656/656 [==============================] - 3s 5ms/step - loss: 1.0444 - val_loss: 1.0348\n",
      "Epoch 26/100\n",
      "656/656 [==============================] - 2s 3ms/step - loss: 1.0221 - val_loss: 1.0512\n",
      "Epoch 27/100\n",
      "656/656 [==============================] - 3s 5ms/step - loss: 1.0447 - val_loss: 1.0514\n",
      "Epoch 28/100\n",
      "656/656 [==============================] - 3s 5ms/step - loss: 1.0442 - val_loss: 1.0431\n",
      "Epoch 29/100\n",
      "656/656 [==============================] - 2s 3ms/step - loss: 1.0198 - val_loss: 1.0443\n",
      "Epoch 30/100\n",
      "656/656 [==============================] - 3s 5ms/step - loss: 1.0239 - val_loss: 1.0198\n",
      "Epoch 31/100\n",
      "656/656 [==============================] - 3s 4ms/step - loss: 1.0287 - val_loss: 1.0354\n",
      "Epoch 32/100\n",
      "656/656 [==============================] - 2s 3ms/step - loss: 1.0178 - val_loss: 1.0332\n",
      "Epoch 33/100\n",
      "656/656 [==============================] - 3s 4ms/step - loss: 1.0347 - val_loss: 1.0392\n",
      "Epoch 34/100\n",
      "656/656 [==============================] - 3s 5ms/step - loss: 1.0264 - val_loss: 1.0318\n",
      "Epoch 35/100\n",
      "656/656 [==============================] - 2s 4ms/step - loss: 1.0206 - val_loss: 1.0315\n",
      "Epoch 36/100\n",
      "656/656 [==============================] - 2s 4ms/step - loss: 1.0465 - val_loss: 1.0168\n",
      "Epoch 37/100\n",
      "656/656 [==============================] - 3s 5ms/step - loss: 1.0187 - val_loss: 1.0564\n",
      "Epoch 38/100\n",
      "656/656 [==============================] - 2s 2ms/step - loss: 1.0297 - val_loss: 1.0523\n",
      "Epoch 39/100\n",
      "656/656 [==============================] - 1s 2ms/step - loss: 1.0154 - val_loss: 1.0353\n",
      "Epoch 40/100\n",
      "656/656 [==============================] - 2s 2ms/step - loss: 1.0166 - val_loss: 1.0526\n",
      "Epoch 41/100\n",
      "656/656 [==============================] - 2s 2ms/step - loss: 1.0427 - val_loss: 1.0176\n",
      "Epoch 42/100\n",
      "656/656 [==============================] - 2s 4ms/step - loss: 1.0249 - val_loss: 1.0372\n",
      "Epoch 43/100\n",
      "656/656 [==============================] - 2s 4ms/step - loss: 1.0127 - val_loss: 0.9998\n",
      "Epoch 44/100\n",
      "656/656 [==============================] - 3s 5ms/step - loss: 1.0120 - val_loss: 1.0411\n",
      "Epoch 45/100\n",
      "656/656 [==============================] - 2s 4ms/step - loss: 1.0173 - val_loss: 1.0568\n",
      "Epoch 46/100\n",
      "656/656 [==============================] - 3s 5ms/step - loss: 1.0539 - val_loss: 1.0258\n",
      "Epoch 47/100\n",
      "656/656 [==============================] - 3s 4ms/step - loss: 1.0183 - val_loss: 1.0109\n",
      "Epoch 48/100\n",
      "656/656 [==============================] - 3s 4ms/step - loss: 1.0237 - val_loss: 1.0590\n",
      "Epoch 49/100\n",
      "656/656 [==============================] - 3s 5ms/step - loss: 1.0192 - val_loss: 1.0372\n",
      "Epoch 50/100\n",
      "656/656 [==============================] - 2s 4ms/step - loss: 1.0163 - val_loss: 1.0317\n",
      "Epoch 51/100\n",
      "656/656 [==============================] - 3s 4ms/step - loss: 1.0216 - val_loss: 1.0534\n",
      "Epoch 52/100\n",
      "656/656 [==============================] - 3s 5ms/step - loss: 1.0266 - val_loss: 1.0641\n",
      "Epoch 53/100\n",
      "656/656 [==============================] - 3s 4ms/step - loss: 1.0250 - val_loss: 1.0257\n",
      "Epoch 54/100\n",
      "656/656 [==============================] - 3s 5ms/step - loss: 1.0097 - val_loss: 1.0080\n",
      "Epoch 55/100\n",
      "656/656 [==============================] - 3s 5ms/step - loss: 1.0290 - val_loss: 1.0170\n",
      "Epoch 56/100\n",
      "656/656 [==============================] - 2s 2ms/step - loss: 1.0110 - val_loss: 1.0385\n",
      "Epoch 57/100\n",
      "656/656 [==============================] - 1s 2ms/step - loss: 1.0372 - val_loss: 1.0187\n",
      "Epoch 58/100\n",
      "656/656 [==============================] - 1s 2ms/step - loss: 1.0295 - val_loss: 1.0155\n",
      "Epoch 59/100\n",
      "656/656 [==============================] - 1s 2ms/step - loss: 1.0102 - val_loss: 1.0883\n",
      "Epoch 60/100\n",
      "656/656 [==============================] - 2s 3ms/step - loss: 1.0217 - val_loss: 1.0220\n",
      "Epoch 61/100\n",
      "656/656 [==============================] - 3s 5ms/step - loss: 1.0381 - val_loss: 1.0181\n",
      "Epoch 62/100\n",
      "656/656 [==============================] - 3s 4ms/step - loss: 1.0243 - val_loss: 1.0473\n",
      "Epoch 63/100\n",
      "656/656 [==============================] - 3s 5ms/step - loss: 1.0144 - val_loss: 1.0070\n",
      "Epoch 64/100\n",
      "656/656 [==============================] - 3s 5ms/step - loss: 1.0313 - val_loss: 1.0492\n",
      "Epoch 65/100\n",
      "656/656 [==============================] - 2s 4ms/step - loss: 1.0138 - val_loss: 0.9928\n",
      "Epoch 66/100\n",
      "656/656 [==============================] - 3s 5ms/step - loss: 1.0282 - val_loss: 1.0303\n",
      "Epoch 67/100\n",
      "656/656 [==============================] - 3s 4ms/step - loss: 1.0087 - val_loss: 1.0140\n",
      "Epoch 68/100\n",
      "656/656 [==============================] - 3s 4ms/step - loss: 1.0205 - val_loss: 1.0125\n",
      "Epoch 69/100\n",
      "656/656 [==============================] - 3s 5ms/step - loss: 1.0235 - val_loss: 1.0214\n",
      "Epoch 70/100\n",
      "656/656 [==============================] - 2s 4ms/step - loss: 1.0126 - val_loss: 1.0434\n",
      "Epoch 71/100\n",
      "656/656 [==============================] - 2s 3ms/step - loss: 1.0240 - val_loss: 1.0335\n",
      "Epoch 72/100\n",
      "656/656 [==============================] - 3s 5ms/step - loss: 1.0057 - val_loss: 1.0261\n",
      "Epoch 73/100\n",
      "656/656 [==============================] - 3s 4ms/step - loss: 1.0131 - val_loss: 1.0292\n",
      "Epoch 74/100\n",
      "656/656 [==============================] - 2s 3ms/step - loss: 1.0160 - val_loss: 1.0556\n",
      "Epoch 75/100\n",
      "656/656 [==============================] - 1s 2ms/step - loss: 1.0199 - val_loss: 1.0198\n",
      "Epoch 76/100\n",
      "656/656 [==============================] - 2s 3ms/step - loss: 1.0217 - val_loss: 1.0496\n",
      "Epoch 77/100\n",
      "656/656 [==============================] - 1s 2ms/step - loss: 1.0252 - val_loss: 1.0390\n",
      "Epoch 78/100\n",
      "656/656 [==============================] - 3s 5ms/step - loss: 1.0067 - val_loss: 1.0225\n",
      "Epoch 79/100\n",
      "656/656 [==============================] - 3s 5ms/step - loss: 1.0227 - val_loss: 1.0532\n",
      "Epoch 80/100\n",
      "656/656 [==============================] - 2s 3ms/step - loss: 1.0108 - val_loss: 1.0551\n",
      "Epoch 81/100\n",
      "656/656 [==============================] - 3s 5ms/step - loss: 1.0190 - val_loss: 1.0270\n",
      "Epoch 82/100\n",
      "656/656 [==============================] - 3s 5ms/step - loss: 1.0135 - val_loss: 1.0516\n",
      "Epoch 83/100\n",
      "656/656 [==============================] - 2s 4ms/step - loss: 1.0169 - val_loss: 1.0483\n",
      "Epoch 84/100\n",
      "656/656 [==============================] - 2s 4ms/step - loss: 1.0026 - val_loss: 1.0415\n",
      "Epoch 85/100\n",
      "656/656 [==============================] - 3s 5ms/step - loss: 1.0184 - val_loss: 1.0247\n",
      "Epoch 86/100\n",
      "656/656 [==============================] - 3s 4ms/step - loss: 1.0228 - val_loss: 1.0410\n",
      "Epoch 87/100\n",
      "656/656 [==============================] - 2s 4ms/step - loss: 1.0180 - val_loss: 1.0914\n",
      "Epoch 88/100\n",
      "656/656 [==============================] - 3s 5ms/step - loss: 1.0310 - val_loss: 1.0260\n",
      "Epoch 89/100\n",
      "656/656 [==============================] - 3s 4ms/step - loss: 1.0173 - val_loss: 1.0230\n",
      "Epoch 90/100\n",
      "656/656 [==============================] - 2s 3ms/step - loss: 1.0143 - val_loss: 1.0817\n",
      "Epoch 91/100\n",
      "656/656 [==============================] - 1s 2ms/step - loss: 1.0262 - val_loss: 1.0673\n",
      "Epoch 92/100\n",
      "656/656 [==============================] - 2s 3ms/step - loss: 1.0013 - val_loss: 1.0326\n",
      "Epoch 93/100\n",
      "656/656 [==============================] - 2s 3ms/step - loss: 1.0210 - val_loss: 1.0182\n",
      "Epoch 94/100\n",
      "656/656 [==============================] - 2s 3ms/step - loss: 1.0115 - val_loss: 0.9967\n",
      "Epoch 95/100\n",
      "656/656 [==============================] - 2s 2ms/step - loss: 1.0159 - val_loss: 1.0364\n",
      "Epoch 96/100\n",
      "656/656 [==============================] - 2s 3ms/step - loss: 1.0107 - val_loss: 1.0611\n",
      "Epoch 97/100\n",
      "656/656 [==============================] - 2s 4ms/step - loss: 1.0223 - val_loss: 1.0477\n",
      "Epoch 98/100\n",
      "656/656 [==============================] - 3s 4ms/step - loss: 1.0219 - val_loss: 1.0592\n",
      "Epoch 99/100\n",
      "656/656 [==============================] - 3s 5ms/step - loss: 0.9944 - val_loss: 1.0135\n",
      "Epoch 100/100\n",
      "656/656 [==============================] - 3s 5ms/step - loss: 1.0410 - val_loss: 1.0927\n",
      "Model: \"model_17\"\n",
      "_________________________________________________________________\n",
      " Layer (type)                Output Shape              Param #   \n",
      "=================================================================\n",
      " input_12 (InputLayer)       [(None, 401)]             0         \n",
      "                                                                 \n",
      " dense_11 (Dense)            (None, 64)                25664     \n",
      "                                                                 \n",
      " net_output (Dense)          (None, 32)                2048      \n",
      "                                                                 \n",
      " tf.math.subtract_11 (TFOpLa  (None, 32)               0         \n",
      " mbda)                                                           \n",
      "                                                                 \n",
      " tf.math.pow_11 (TFOpLambda)  (None, 32)               0         \n",
      "                                                                 \n",
      " tf.math.reduce_sum_11 (TFOp  (None,)                  0         \n",
      " Lambda)                                                         \n",
      "                                                                 \n",
      " tf.math.reduce_mean_11 (TFO  ()                       0         \n",
      " pLambda)                                                        \n",
      "                                                                 \n",
      " tf.__operators__.add_11 (TF  ()                       0         \n",
      " OpLambda)                                                       \n",
      "                                                                 \n",
      " add_loss_11 (AddLoss)       ()                        0         \n",
      "                                                                 \n",
      "=================================================================\n",
      "Total params: 27,712\n",
      "Trainable params: 27,712\n",
      "Non-trainable params: 0\n",
      "_________________________________________________________________\n",
      "None\n",
      "Epoch 1/200\n",
      "656/656 [==============================] - 3s 4ms/step - loss: 6.9628 - val_loss: 2.8871\n",
      "Epoch 2/200\n",
      "656/656 [==============================] - 2s 3ms/step - loss: 3.8581 - val_loss: 1.4216\n",
      "Epoch 3/200\n",
      "656/656 [==============================] - 3s 5ms/step - loss: 2.1855 - val_loss: 0.9274\n",
      "Epoch 4/200\n",
      "656/656 [==============================] - 2s 4ms/step - loss: 1.6588 - val_loss: 0.7334\n",
      "Epoch 5/200\n",
      "656/656 [==============================] - 2s 4ms/step - loss: 1.3693 - val_loss: 0.6585\n",
      "Epoch 6/200\n",
      "656/656 [==============================] - 1s 2ms/step - loss: 1.2200 - val_loss: 0.7620\n",
      "Epoch 7/200\n",
      "656/656 [==============================] - 1s 2ms/step - loss: 1.0449 - val_loss: 0.5956\n",
      "Epoch 8/200\n",
      "656/656 [==============================] - 2s 4ms/step - loss: 0.9339 - val_loss: 0.5954\n",
      "Epoch 9/200\n",
      "656/656 [==============================] - 3s 4ms/step - loss: 0.8575 - val_loss: 0.5434\n",
      "Epoch 10/200\n",
      "656/656 [==============================] - 2s 3ms/step - loss: 0.8049 - val_loss: 0.5521\n",
      "Epoch 11/200\n",
      "656/656 [==============================] - 1s 2ms/step - loss: 0.7726 - val_loss: 0.5119\n",
      "Epoch 12/200\n",
      "656/656 [==============================] - 2s 2ms/step - loss: 0.6855 - val_loss: 0.5019\n",
      "Epoch 13/200\n",
      "656/656 [==============================] - 1s 2ms/step - loss: 0.6509 - val_loss: 0.4768\n",
      "Epoch 14/200\n",
      "656/656 [==============================] - 2s 3ms/step - loss: 0.6221 - val_loss: 0.4953\n",
      "Epoch 15/200\n",
      "656/656 [==============================] - 2s 4ms/step - loss: 0.5871 - val_loss: 0.4745\n",
      "Epoch 16/200\n",
      "656/656 [==============================] - 3s 5ms/step - loss: 0.5747 - val_loss: 0.4566\n",
      "Epoch 17/200\n",
      "656/656 [==============================] - 3s 5ms/step - loss: 0.5227 - val_loss: 0.4373\n",
      "Epoch 18/200\n",
      "656/656 [==============================] - 2s 4ms/step - loss: 0.5114 - val_loss: 0.4283\n",
      "Epoch 19/200\n",
      "656/656 [==============================] - 3s 5ms/step - loss: 0.4902 - val_loss: 0.4379\n",
      "Epoch 20/200\n",
      "656/656 [==============================] - 3s 4ms/step - loss: 0.4990 - val_loss: 0.4313\n",
      "Epoch 21/200\n",
      "656/656 [==============================] - 2s 3ms/step - loss: 0.4988 - val_loss: 0.4119\n",
      "Epoch 22/200\n",
      "656/656 [==============================] - 3s 5ms/step - loss: 0.4481 - val_loss: 0.4146\n",
      "Epoch 23/200\n",
      "656/656 [==============================] - 3s 4ms/step - loss: 0.4374 - val_loss: 0.4064\n",
      "Epoch 24/200\n",
      "656/656 [==============================] - 2s 2ms/step - loss: 0.4262 - val_loss: 0.4166\n",
      "Epoch 25/200\n",
      "656/656 [==============================] - 2s 2ms/step - loss: 0.4293 - val_loss: 0.4007\n",
      "Epoch 26/200\n",
      "656/656 [==============================] - 2s 3ms/step - loss: 0.4175 - val_loss: 0.3970\n",
      "Epoch 27/200\n",
      "656/656 [==============================] - 3s 4ms/step - loss: 0.4123 - val_loss: 0.3916\n",
      "Epoch 28/200\n",
      "656/656 [==============================] - 3s 5ms/step - loss: 0.4404 - val_loss: 0.4380\n",
      "Epoch 29/200\n",
      "656/656 [==============================] - 2s 3ms/step - loss: 0.4184 - val_loss: 0.4025\n",
      "Epoch 30/200\n",
      "656/656 [==============================] - 2s 4ms/step - loss: 0.3879 - val_loss: 0.4440\n",
      "Epoch 31/200\n",
      "656/656 [==============================] - 2s 2ms/step - loss: 0.4001 - val_loss: 0.4006\n",
      "Epoch 32/200\n",
      "656/656 [==============================] - 2s 2ms/step - loss: 0.3986 - val_loss: 0.4109\n",
      "Epoch 33/200\n",
      "656/656 [==============================] - 3s 5ms/step - loss: 0.3944 - val_loss: 0.3814\n",
      "Epoch 34/200\n",
      "656/656 [==============================] - 2s 4ms/step - loss: 0.3917 - val_loss: 0.4176\n",
      "Epoch 35/200\n",
      "656/656 [==============================] - 2s 4ms/step - loss: 0.3853 - val_loss: 0.4092\n",
      "Epoch 36/200\n",
      "656/656 [==============================] - 3s 4ms/step - loss: 0.3942 - val_loss: 0.4173\n",
      "Epoch 37/200\n",
      "656/656 [==============================] - 3s 5ms/step - loss: 0.3933 - val_loss: 0.4102\n",
      "Epoch 38/200\n",
      "656/656 [==============================] - 2s 2ms/step - loss: 0.4019 - val_loss: 0.4074\n",
      "Epoch 39/200\n",
      "656/656 [==============================] - 3s 5ms/step - loss: 0.3962 - val_loss: 0.4006\n",
      "Epoch 40/200\n",
      "656/656 [==============================] - 3s 5ms/step - loss: 0.3861 - val_loss: 0.4311\n",
      "Epoch 41/200\n",
      "656/656 [==============================] - 2s 3ms/step - loss: 0.3925 - val_loss: 0.3859\n",
      "Epoch 42/200\n",
      "656/656 [==============================] - 2s 3ms/step - loss: 0.3828 - val_loss: 0.3944\n",
      "Epoch 43/200\n",
      "656/656 [==============================] - 2s 2ms/step - loss: 0.4068 - val_loss: 0.3889\n",
      "Epoch 44/200\n",
      "656/656 [==============================] - 2s 4ms/step - loss: 0.3860 - val_loss: 0.3778\n",
      "Epoch 45/200\n",
      "656/656 [==============================] - 3s 4ms/step - loss: 0.3814 - val_loss: 0.3895\n",
      "Epoch 46/200\n",
      "656/656 [==============================] - 2s 3ms/step - loss: 0.3798 - val_loss: 0.3925\n",
      "Epoch 47/200\n",
      "656/656 [==============================] - 3s 4ms/step - loss: 0.3962 - val_loss: 0.4172\n",
      "Epoch 48/200\n",
      "656/656 [==============================] - 2s 4ms/step - loss: 0.4198 - val_loss: 0.4195\n",
      "Epoch 49/200\n",
      "656/656 [==============================] - 2s 2ms/step - loss: 0.4011 - val_loss: 0.4405\n",
      "Epoch 50/200\n",
      "656/656 [==============================] - 2s 2ms/step - loss: 0.3951 - val_loss: 0.3892\n",
      "Epoch 51/200\n",
      "656/656 [==============================] - 2s 2ms/step - loss: 0.3833 - val_loss: 0.3973\n",
      "Epoch 52/200\n",
      "656/656 [==============================] - 3s 5ms/step - loss: 0.4053 - val_loss: 0.4130\n",
      "Epoch 53/200\n",
      "656/656 [==============================] - 3s 4ms/step - loss: 0.3872 - val_loss: 0.4185\n",
      "Epoch 54/200\n",
      "656/656 [==============================] - 2s 4ms/step - loss: 0.3823 - val_loss: 0.4088\n",
      "Epoch 55/200\n",
      "656/656 [==============================] - 3s 4ms/step - loss: 0.3882 - val_loss: 0.3900\n",
      "Epoch 56/200\n",
      "656/656 [==============================] - 2s 3ms/step - loss: 0.3964 - val_loss: 0.3966\n",
      "Epoch 57/200\n",
      "656/656 [==============================] - 3s 4ms/step - loss: 0.3807 - val_loss: 0.4011\n",
      "Epoch 58/200\n",
      "656/656 [==============================] - 3s 5ms/step - loss: 0.3998 - val_loss: 0.4370\n",
      "Epoch 59/200\n",
      "656/656 [==============================] - 3s 4ms/step - loss: 0.3923 - val_loss: 0.3762\n",
      "Epoch 60/200\n",
      "656/656 [==============================] - 2s 3ms/step - loss: 0.3824 - val_loss: 0.4281\n",
      "Epoch 61/200\n",
      "656/656 [==============================] - 2s 2ms/step - loss: 0.3880 - val_loss: 0.3900\n",
      "Epoch 62/200\n",
      "656/656 [==============================] - 2s 4ms/step - loss: 0.3853 - val_loss: 0.3864\n",
      "Epoch 63/200\n",
      "656/656 [==============================] - 2s 4ms/step - loss: 0.3848 - val_loss: 0.3879\n",
      "Epoch 64/200\n",
      "656/656 [==============================] - 2s 3ms/step - loss: 0.4004 - val_loss: 0.3986\n",
      "Epoch 65/200\n",
      "656/656 [==============================] - 3s 4ms/step - loss: 0.3860 - val_loss: 0.3739\n",
      "Epoch 66/200\n",
      "656/656 [==============================] - 3s 4ms/step - loss: 0.3707 - val_loss: 0.4159\n",
      "Epoch 67/200\n",
      "656/656 [==============================] - 3s 4ms/step - loss: 0.3961 - val_loss: 0.3923\n",
      "Epoch 68/200\n",
      "656/656 [==============================] - 2s 3ms/step - loss: 0.3885 - val_loss: 0.3864\n",
      "Epoch 69/200\n",
      "656/656 [==============================] - 1s 2ms/step - loss: 0.3833 - val_loss: 0.3896\n",
      "Epoch 70/200\n",
      "656/656 [==============================] - 2s 2ms/step - loss: 0.3826 - val_loss: 0.3813\n",
      "Epoch 71/200\n",
      "656/656 [==============================] - 2s 3ms/step - loss: 0.3786 - val_loss: 0.3780\n",
      "Epoch 72/200\n",
      "656/656 [==============================] - 3s 4ms/step - loss: 0.3922 - val_loss: 0.3827\n",
      "Epoch 73/200\n",
      "656/656 [==============================] - 3s 4ms/step - loss: 0.3854 - val_loss: 0.4068\n",
      "Epoch 74/200\n",
      "656/656 [==============================] - 2s 3ms/step - loss: 0.3855 - val_loss: 0.4014\n",
      "Epoch 75/200\n",
      "656/656 [==============================] - 3s 5ms/step - loss: 0.3877 - val_loss: 0.3760\n",
      "Epoch 76/200\n",
      "656/656 [==============================] - 3s 5ms/step - loss: 0.3858 - val_loss: 0.4017\n",
      "Epoch 77/200\n",
      "656/656 [==============================] - 3s 4ms/step - loss: 0.3876 - val_loss: 0.4081\n",
      "Epoch 78/200\n",
      "656/656 [==============================] - 2s 2ms/step - loss: 0.3850 - val_loss: 0.3982\n",
      "Epoch 79/200\n",
      "656/656 [==============================] - 2s 2ms/step - loss: 0.3879 - val_loss: 0.3897\n",
      "Epoch 80/200\n",
      "656/656 [==============================] - 3s 5ms/step - loss: 0.3867 - val_loss: 0.4044\n",
      "Epoch 81/200\n",
      "656/656 [==============================] - 2s 4ms/step - loss: 0.3883 - val_loss: 0.3969\n",
      "Epoch 82/200\n",
      "656/656 [==============================] - 3s 4ms/step - loss: 0.3975 - val_loss: 0.4247\n",
      "Epoch 83/200\n",
      "656/656 [==============================] - 2s 3ms/step - loss: 0.3870 - val_loss: 0.3810\n",
      "Epoch 84/200\n",
      "656/656 [==============================] - 3s 4ms/step - loss: 0.3815 - val_loss: 0.3751\n",
      "Epoch 85/200\n",
      "656/656 [==============================] - 3s 4ms/step - loss: 0.3772 - val_loss: 0.3934\n",
      "Epoch 86/200\n",
      "656/656 [==============================] - 2s 4ms/step - loss: 0.3933 - val_loss: 0.3811\n",
      "Epoch 87/200\n",
      "656/656 [==============================] - 2s 3ms/step - loss: 0.3892 - val_loss: 0.4065\n",
      "Epoch 88/200\n",
      "656/656 [==============================] - 2s 2ms/step - loss: 0.3866 - val_loss: 0.3998\n",
      "Epoch 89/200\n",
      "656/656 [==============================] - 2s 3ms/step - loss: 0.3845 - val_loss: 0.3953\n",
      "Epoch 90/200\n",
      "656/656 [==============================] - 2s 3ms/step - loss: 0.3865 - val_loss: 0.4130\n",
      "Epoch 91/200\n",
      "656/656 [==============================] - 3s 4ms/step - loss: 0.3855 - val_loss: 0.3819\n",
      "Epoch 92/200\n",
      "656/656 [==============================] - 3s 4ms/step - loss: 0.3830 - val_loss: 0.3788\n",
      "Epoch 93/200\n",
      "656/656 [==============================] - 3s 5ms/step - loss: 0.3722 - val_loss: 0.3871\n",
      "Epoch 94/200\n",
      "656/656 [==============================] - 3s 5ms/step - loss: 0.3813 - val_loss: 0.3725\n",
      "Epoch 95/200\n",
      "656/656 [==============================] - 2s 2ms/step - loss: 0.3767 - val_loss: 0.4086\n",
      "Epoch 96/200\n",
      "656/656 [==============================] - 2s 3ms/step - loss: 0.3855 - val_loss: 0.3876\n",
      "Epoch 97/200\n",
      "656/656 [==============================] - 2s 4ms/step - loss: 0.3832 - val_loss: 0.3802\n",
      "Epoch 98/200\n",
      "656/656 [==============================] - 3s 4ms/step - loss: 0.3755 - val_loss: 0.3711\n",
      "Epoch 99/200\n",
      "656/656 [==============================] - 2s 3ms/step - loss: 0.3758 - val_loss: 0.3746\n",
      "Epoch 100/200\n",
      "656/656 [==============================] - 3s 4ms/step - loss: 0.3805 - val_loss: 0.3836\n",
      "Epoch 101/200\n",
      "656/656 [==============================] - 3s 5ms/step - loss: 0.3809 - val_loss: 0.3883\n",
      "Epoch 102/200\n",
      "656/656 [==============================] - 3s 4ms/step - loss: 0.3895 - val_loss: 0.3807\n",
      "Epoch 103/200\n",
      "656/656 [==============================] - 2s 4ms/step - loss: 0.3812 - val_loss: 0.3849\n",
      "Epoch 104/200\n",
      "656/656 [==============================] - 3s 4ms/step - loss: 0.3930 - val_loss: 0.3959\n",
      "Epoch 105/200\n",
      "656/656 [==============================] - 3s 4ms/step - loss: 0.3791 - val_loss: 0.3806\n",
      "Epoch 106/200\n",
      "656/656 [==============================] - 1s 2ms/step - loss: 0.3861 - val_loss: 0.4016\n",
      "Epoch 107/200\n",
      "656/656 [==============================] - 2s 3ms/step - loss: 0.3792 - val_loss: 0.3726\n",
      "Epoch 108/200\n",
      "656/656 [==============================] - 2s 4ms/step - loss: 0.3805 - val_loss: 0.4049\n",
      "Epoch 109/200\n",
      "656/656 [==============================] - 3s 4ms/step - loss: 0.3850 - val_loss: 0.3922\n",
      "Epoch 110/200\n",
      "656/656 [==============================] - 2s 4ms/step - loss: 0.3846 - val_loss: 0.3938\n",
      "Epoch 111/200\n",
      "656/656 [==============================] - 3s 5ms/step - loss: 0.3854 - val_loss: 0.4000\n",
      "Epoch 112/200\n",
      "656/656 [==============================] - 2s 3ms/step - loss: 0.3871 - val_loss: 0.3916\n",
      "Epoch 113/200\n",
      "656/656 [==============================] - 1s 2ms/step - loss: 0.3770 - val_loss: 0.3872\n",
      "Epoch 114/200\n",
      "656/656 [==============================] - 2s 3ms/step - loss: 0.3898 - val_loss: 0.3853\n",
      "Epoch 115/200\n",
      "656/656 [==============================] - 3s 4ms/step - loss: 0.3830 - val_loss: 0.3766\n",
      "Epoch 116/200\n",
      "656/656 [==============================] - 2s 4ms/step - loss: 0.3832 - val_loss: 0.3849\n",
      "Epoch 117/200\n",
      "656/656 [==============================] - 3s 4ms/step - loss: 0.3746 - val_loss: 0.3771\n",
      "Epoch 118/200\n",
      "656/656 [==============================] - 3s 4ms/step - loss: 0.3897 - val_loss: 0.3929\n",
      "Epoch 119/200\n",
      "656/656 [==============================] - 3s 4ms/step - loss: 0.3722 - val_loss: 0.3816\n",
      "Epoch 120/200\n",
      "656/656 [==============================] - 2s 4ms/step - loss: 0.3757 - val_loss: 0.3865\n",
      "Epoch 121/200\n",
      "656/656 [==============================] - 3s 4ms/step - loss: 0.3846 - val_loss: 0.3911\n",
      "Epoch 122/200\n",
      "656/656 [==============================] - 3s 4ms/step - loss: 0.3819 - val_loss: 0.3701\n",
      "Epoch 123/200\n",
      "656/656 [==============================] - 2s 4ms/step - loss: 0.3789 - val_loss: 0.3904\n",
      "Epoch 124/200\n",
      "656/656 [==============================] - 2s 3ms/step - loss: 0.3888 - val_loss: 0.3932\n",
      "Epoch 125/200\n",
      "656/656 [==============================] - 2s 2ms/step - loss: 0.3787 - val_loss: 0.3839\n",
      "Epoch 126/200\n",
      "656/656 [==============================] - 2s 2ms/step - loss: 0.3705 - val_loss: 0.3915\n",
      "Epoch 127/200\n",
      "656/656 [==============================] - 3s 4ms/step - loss: 0.3821 - val_loss: 0.3839\n",
      "Epoch 128/200\n",
      "656/656 [==============================] - 3s 4ms/step - loss: 0.3803 - val_loss: 0.3966\n",
      "Epoch 129/200\n",
      "656/656 [==============================] - 3s 4ms/step - loss: 0.3874 - val_loss: 0.3690\n",
      "Epoch 130/200\n",
      "656/656 [==============================] - 1s 2ms/step - loss: 0.3771 - val_loss: 0.3783\n",
      "Epoch 131/200\n",
      "656/656 [==============================] - 1s 2ms/step - loss: 0.3824 - val_loss: 0.3715\n",
      "Epoch 132/200\n",
      "656/656 [==============================] - 2s 2ms/step - loss: 0.3783 - val_loss: 0.3733\n",
      "Epoch 133/200\n",
      "656/656 [==============================] - 2s 2ms/step - loss: 0.3738 - val_loss: 0.3745\n",
      "Epoch 134/200\n",
      "656/656 [==============================] - 3s 5ms/step - loss: 0.3748 - val_loss: 0.3647\n",
      "Epoch 135/200\n",
      "656/656 [==============================] - 3s 4ms/step - loss: 0.3799 - val_loss: 0.3728\n",
      "Epoch 136/200\n",
      "656/656 [==============================] - 2s 4ms/step - loss: 0.3767 - val_loss: 0.3887\n",
      "Epoch 137/200\n",
      "656/656 [==============================] - 3s 5ms/step - loss: 0.3745 - val_loss: 0.4112\n",
      "Epoch 138/200\n",
      "656/656 [==============================] - 3s 4ms/step - loss: 0.3948 - val_loss: 0.3877\n",
      "Epoch 139/200\n",
      "656/656 [==============================] - 3s 5ms/step - loss: 0.3805 - val_loss: 0.3732\n",
      "Epoch 140/200\n",
      "656/656 [==============================] - 3s 5ms/step - loss: 0.3783 - val_loss: 0.4071\n",
      "Epoch 141/200\n",
      "656/656 [==============================] - 2s 3ms/step - loss: 0.3849 - val_loss: 0.3762\n",
      "Epoch 142/200\n",
      "656/656 [==============================] - 3s 4ms/step - loss: 0.3771 - val_loss: 0.3842\n",
      "Epoch 143/200\n",
      "656/656 [==============================] - 2s 3ms/step - loss: 0.3816 - val_loss: 0.3697\n",
      "Epoch 144/200\n",
      "656/656 [==============================] - 1s 2ms/step - loss: 0.3791 - val_loss: 0.3717\n",
      "Epoch 145/200\n",
      "656/656 [==============================] - 1s 2ms/step - loss: 0.3751 - val_loss: 0.3892\n",
      "Epoch 146/200\n",
      "656/656 [==============================] - 3s 4ms/step - loss: 0.3803 - val_loss: 0.3750\n",
      "Epoch 147/200\n",
      "656/656 [==============================] - 2s 3ms/step - loss: 0.3710 - val_loss: 0.3805\n",
      "Epoch 148/200\n",
      "656/656 [==============================] - 3s 4ms/step - loss: 0.3819 - val_loss: 0.3694\n",
      "Epoch 149/200\n",
      "656/656 [==============================] - 2s 2ms/step - loss: 0.3762 - val_loss: 0.3873\n",
      "Epoch 150/200\n",
      "656/656 [==============================] - 1s 2ms/step - loss: 0.3836 - val_loss: 0.3719\n",
      "Epoch 151/200\n",
      "656/656 [==============================] - 2s 4ms/step - loss: 0.3762 - val_loss: 0.3868\n",
      "Epoch 152/200\n",
      "656/656 [==============================] - 2s 4ms/step - loss: 0.3884 - val_loss: 0.3797\n",
      "Epoch 153/200\n",
      "656/656 [==============================] - 2s 3ms/step - loss: 0.3838 - val_loss: 0.4017\n",
      "Epoch 154/200\n",
      "656/656 [==============================] - 3s 5ms/step - loss: 0.3855 - val_loss: 0.3714\n",
      "Epoch 155/200\n",
      "656/656 [==============================] - 3s 4ms/step - loss: 0.3694 - val_loss: 0.3782\n",
      "Epoch 156/200\n",
      "656/656 [==============================] - 2s 3ms/step - loss: 0.3852 - val_loss: 0.3964\n",
      "Epoch 157/200\n",
      "656/656 [==============================] - 3s 5ms/step - loss: 0.3862 - val_loss: 0.3758\n",
      "Epoch 158/200\n",
      "656/656 [==============================] - 3s 4ms/step - loss: 0.3874 - val_loss: 0.3934\n",
      "Epoch 159/200\n",
      "656/656 [==============================] - 2s 3ms/step - loss: 0.3785 - val_loss: 0.3830\n",
      "Epoch 160/200\n",
      "656/656 [==============================] - 2s 4ms/step - loss: 0.3858 - val_loss: 0.3835\n",
      "Epoch 161/200\n",
      "656/656 [==============================] - 3s 5ms/step - loss: 0.3771 - val_loss: 0.3851\n",
      "Epoch 162/200\n",
      "656/656 [==============================] - 2s 3ms/step - loss: 0.3810 - val_loss: 0.3928\n",
      "Epoch 163/200\n",
      "656/656 [==============================] - 1s 2ms/step - loss: 0.3797 - val_loss: 0.3961\n",
      "Epoch 164/200\n",
      "656/656 [==============================] - 2s 2ms/step - loss: 0.3807 - val_loss: 0.3644\n",
      "Epoch 165/200\n",
      "656/656 [==============================] - 1s 2ms/step - loss: 0.3813 - val_loss: 0.3869\n",
      "Epoch 166/200\n",
      "656/656 [==============================] - 2s 4ms/step - loss: 0.3789 - val_loss: 0.4080\n",
      "Epoch 167/200\n",
      "656/656 [==============================] - 2s 3ms/step - loss: 0.3810 - val_loss: 0.3819\n",
      "Epoch 168/200\n",
      "656/656 [==============================] - 2s 2ms/step - loss: 0.3867 - val_loss: 0.3918\n",
      "Epoch 169/200\n",
      "656/656 [==============================] - 2s 3ms/step - loss: 0.3843 - val_loss: 0.3842\n",
      "Epoch 170/200\n",
      "656/656 [==============================] - 2s 3ms/step - loss: 0.3883 - val_loss: 0.3899\n",
      "Epoch 171/200\n",
      "656/656 [==============================] - 2s 4ms/step - loss: 0.3807 - val_loss: 0.3835\n",
      "Epoch 172/200\n",
      "656/656 [==============================] - 3s 5ms/step - loss: 0.3795 - val_loss: 0.3898\n",
      "Epoch 173/200\n",
      "656/656 [==============================] - 3s 5ms/step - loss: 0.3753 - val_loss: 0.3981\n",
      "Epoch 174/200\n",
      "656/656 [==============================] - 2s 3ms/step - loss: 0.3725 - val_loss: 0.3969\n",
      "Epoch 175/200\n",
      "656/656 [==============================] - 3s 5ms/step - loss: 0.3871 - val_loss: 0.4042\n",
      "Epoch 176/200\n",
      "656/656 [==============================] - 3s 5ms/step - loss: 0.3802 - val_loss: 0.3996\n",
      "Epoch 177/200\n",
      "656/656 [==============================] - 3s 4ms/step - loss: 0.3939 - val_loss: 0.3858\n",
      "Epoch 178/200\n",
      "656/656 [==============================] - 3s 4ms/step - loss: 0.3842 - val_loss: 0.3776\n",
      "Epoch 179/200\n",
      "656/656 [==============================] - 3s 4ms/step - loss: 0.3781 - val_loss: 0.3896\n",
      "Epoch 180/200\n",
      "656/656 [==============================] - 2s 4ms/step - loss: 0.3784 - val_loss: 0.3866\n",
      "Epoch 181/200\n",
      "656/656 [==============================] - 3s 4ms/step - loss: 0.3800 - val_loss: 0.3724\n",
      "Epoch 182/200\n",
      "656/656 [==============================] - 2s 4ms/step - loss: 0.3744 - val_loss: 0.4016\n",
      "Epoch 183/200\n",
      "656/656 [==============================] - 1s 2ms/step - loss: 0.3871 - val_loss: 0.3980\n",
      "Epoch 184/200\n",
      "656/656 [==============================] - 2s 2ms/step - loss: 0.3800 - val_loss: 0.3913\n",
      "Epoch 185/200\n",
      "656/656 [==============================] - 2s 3ms/step - loss: 0.3895 - val_loss: 0.3918\n",
      "Epoch 186/200\n",
      "656/656 [==============================] - 1s 2ms/step - loss: 0.3861 - val_loss: 0.3983\n",
      "Epoch 187/200\n",
      "656/656 [==============================] - 2s 3ms/step - loss: 0.3887 - val_loss: 0.3862\n",
      "Epoch 188/200\n",
      "656/656 [==============================] - 3s 4ms/step - loss: 0.3708 - val_loss: 0.4110\n",
      "Epoch 189/200\n",
      "656/656 [==============================] - 3s 5ms/step - loss: 0.3767 - val_loss: 0.4083\n",
      "Epoch 190/200\n",
      "656/656 [==============================] - 2s 4ms/step - loss: 0.3884 - val_loss: 0.3928\n",
      "Epoch 191/200\n",
      "656/656 [==============================] - 3s 4ms/step - loss: 0.3808 - val_loss: 0.3816\n",
      "Epoch 192/200\n",
      "656/656 [==============================] - 3s 4ms/step - loss: 0.3738 - val_loss: 0.4201\n",
      "Epoch 193/200\n",
      "656/656 [==============================] - 2s 3ms/step - loss: 0.3782 - val_loss: 0.3837\n",
      "Epoch 194/200\n",
      "656/656 [==============================] - 3s 5ms/step - loss: 0.3798 - val_loss: 0.3762\n",
      "Epoch 195/200\n",
      "656/656 [==============================] - 3s 4ms/step - loss: 0.3772 - val_loss: 0.3976\n",
      "Epoch 196/200\n",
      "656/656 [==============================] - 2s 4ms/step - loss: 0.3979 - val_loss: 0.4070\n",
      "Epoch 197/200\n",
      "656/656 [==============================] - 2s 4ms/step - loss: 0.3818 - val_loss: 0.3858\n",
      "Epoch 198/200\n",
      "656/656 [==============================] - 3s 4ms/step - loss: 0.3750 - val_loss: 0.3978\n",
      "Epoch 199/200\n",
      "656/656 [==============================] - 2s 4ms/step - loss: 0.3761 - val_loss: 0.3792\n",
      "Epoch 200/200\n",
      "656/656 [==============================] - 2s 4ms/step - loss: 0.3859 - val_loss: 0.4038\n",
      "The candidate hyper-parameter of DeepSVDD: [20, 50, 100, 200],  corresponding metric: [0.15550890644151688, 0.1932288136267485, 0.16947596843998708, 0.14736282991168403]  the best candidate: 50\n",
      "best param: 50\n",
      "Model: \"model_20\"\n",
      "_________________________________________________________________\n",
      " Layer (type)                Output Shape              Param #   \n",
      "=================================================================\n",
      " input_14 (InputLayer)       [(None, 401)]             0         \n",
      "                                                                 \n",
      " dense_13 (Dense)            (None, 64)                25664     \n",
      "                                                                 \n",
      " net_output (Dense)          (None, 32)                2048      \n",
      "                                                                 \n",
      " tf.math.subtract_13 (TFOpLa  (None, 32)               0         \n",
      " mbda)                                                           \n",
      "                                                                 \n",
      " tf.math.pow_13 (TFOpLambda)  (None, 32)               0         \n",
      "                                                                 \n",
      " tf.math.reduce_sum_13 (TFOp  (None,)                  0         \n",
      " Lambda)                                                         \n",
      "                                                                 \n",
      " tf.math.reduce_mean_13 (TFO  ()                       0         \n",
      " pLambda)                                                        \n",
      "                                                                 \n",
      " tf.__operators__.add_13 (TF  ()                       0         \n",
      " OpLambda)                                                       \n",
      "                                                                 \n",
      " add_loss_13 (AddLoss)       ()                        0         \n",
      "                                                                 \n",
      "=================================================================\n",
      "Total params: 27,712\n",
      "Trainable params: 27,712\n",
      "Non-trainable params: 0\n",
      "_________________________________________________________________\n",
      "None\n",
      "Epoch 1/50\n",
      "656/656 [==============================] - 2s 2ms/step - loss: 7.6711 - val_loss: 2.8625\n",
      "Epoch 2/50\n",
      "656/656 [==============================] - 2s 2ms/step - loss: 3.6206 - val_loss: 1.6206\n",
      "Epoch 3/50\n",
      "656/656 [==============================] - 3s 5ms/step - loss: 2.2773 - val_loss: 1.3093\n",
      "Epoch 4/50\n",
      "656/656 [==============================] - 2s 4ms/step - loss: 1.8125 - val_loss: 1.2006\n",
      "Epoch 5/50\n",
      "656/656 [==============================] - 3s 5ms/step - loss: 1.4883 - val_loss: 1.0607\n",
      "Epoch 6/50\n",
      "656/656 [==============================] - 3s 4ms/step - loss: 1.3056 - val_loss: 1.0558\n",
      "Epoch 7/50\n",
      "656/656 [==============================] - 2s 3ms/step - loss: 1.1827 - val_loss: 1.0011\n",
      "Epoch 8/50\n",
      "656/656 [==============================] - 3s 5ms/step - loss: 1.0618 - val_loss: 0.9405\n",
      "Epoch 9/50\n",
      "656/656 [==============================] - 3s 5ms/step - loss: 0.9837 - val_loss: 0.9171\n",
      "Epoch 10/50\n",
      "656/656 [==============================] - 3s 4ms/step - loss: 0.9334 - val_loss: 0.8967\n",
      "Epoch 11/50\n",
      "656/656 [==============================] - 3s 5ms/step - loss: 0.8956 - val_loss: 0.8728\n",
      "Epoch 12/50\n",
      "656/656 [==============================] - 3s 5ms/step - loss: 0.8710 - val_loss: 0.9010\n",
      "Epoch 13/50\n",
      "656/656 [==============================] - 3s 4ms/step - loss: 0.8385 - val_loss: 0.8985\n",
      "Epoch 14/50\n",
      "656/656 [==============================] - 3s 5ms/step - loss: 0.8185 - val_loss: 0.8652\n",
      "Epoch 15/50\n",
      "656/656 [==============================] - 3s 5ms/step - loss: 0.8024 - val_loss: 0.8313\n",
      "Epoch 16/50\n",
      "656/656 [==============================] - 2s 3ms/step - loss: 0.7750 - val_loss: 0.8127\n",
      "Epoch 17/50\n",
      "656/656 [==============================] - 2s 2ms/step - loss: 0.7725 - val_loss: 0.8072\n",
      "Epoch 18/50\n",
      "656/656 [==============================] - 1s 2ms/step - loss: 0.7755 - val_loss: 0.8167\n",
      "Epoch 19/50\n",
      "656/656 [==============================] - 2s 3ms/step - loss: 0.7674 - val_loss: 0.8350\n",
      "Epoch 20/50\n",
      "656/656 [==============================] - 3s 5ms/step - loss: 0.7772 - val_loss: 0.8445\n",
      "Epoch 21/50\n",
      "656/656 [==============================] - 3s 4ms/step - loss: 0.7642 - val_loss: 0.8287\n",
      "Epoch 22/50\n",
      "656/656 [==============================] - 3s 4ms/step - loss: 0.7514 - val_loss: 0.8203\n",
      "Epoch 23/50\n",
      "656/656 [==============================] - 3s 5ms/step - loss: 0.7640 - val_loss: 0.8447\n",
      "Epoch 24/50\n",
      "656/656 [==============================] - 3s 5ms/step - loss: 0.7580 - val_loss: 0.8431\n",
      "Epoch 25/50\n",
      "656/656 [==============================] - 3s 5ms/step - loss: 0.7597 - val_loss: 0.8180\n",
      "Epoch 26/50\n",
      "656/656 [==============================] - 2s 3ms/step - loss: 0.7494 - val_loss: 0.8177\n",
      "Epoch 27/50\n",
      "656/656 [==============================] - 3s 4ms/step - loss: 0.7536 - val_loss: 0.8059\n",
      "Epoch 28/50\n",
      "656/656 [==============================] - 3s 4ms/step - loss: 0.7591 - val_loss: 0.8480\n",
      "Epoch 29/50\n",
      "656/656 [==============================] - 2s 4ms/step - loss: 0.7576 - val_loss: 0.8564\n",
      "Epoch 30/50\n",
      "656/656 [==============================] - 3s 5ms/step - loss: 0.7580 - val_loss: 0.8143\n",
      "Epoch 31/50\n",
      "656/656 [==============================] - 3s 4ms/step - loss: 0.7607 - val_loss: 0.8466\n",
      "Epoch 32/50\n",
      "656/656 [==============================] - 2s 3ms/step - loss: 0.7836 - val_loss: 0.7935\n",
      "Epoch 33/50\n",
      "656/656 [==============================] - 1s 2ms/step - loss: 0.7636 - val_loss: 0.7995\n",
      "Epoch 34/50\n",
      "656/656 [==============================] - 1s 2ms/step - loss: 0.7537 - val_loss: 0.8176\n",
      "Epoch 35/50\n",
      "656/656 [==============================] - 2s 4ms/step - loss: 0.7594 - val_loss: 0.8193\n",
      "Epoch 36/50\n",
      "656/656 [==============================] - 2s 3ms/step - loss: 0.7534 - val_loss: 0.8137\n",
      "Epoch 37/50\n",
      "656/656 [==============================] - 2s 2ms/step - loss: 0.7388 - val_loss: 0.8143\n",
      "Epoch 38/50\n",
      "656/656 [==============================] - 3s 5ms/step - loss: 0.7447 - val_loss: 0.8053\n",
      "Epoch 39/50\n",
      "656/656 [==============================] - 3s 4ms/step - loss: 0.7507 - val_loss: 0.8048\n",
      "Epoch 40/50\n",
      "656/656 [==============================] - 3s 5ms/step - loss: 0.7487 - val_loss: 0.8447\n",
      "Epoch 41/50\n",
      "656/656 [==============================] - 3s 5ms/step - loss: 0.7433 - val_loss: 0.8078\n",
      "Epoch 42/50\n",
      "656/656 [==============================] - 3s 4ms/step - loss: 0.7550 - val_loss: 0.8664\n",
      "Epoch 43/50\n",
      "656/656 [==============================] - 3s 4ms/step - loss: 0.7471 - val_loss: 0.8104\n",
      "Epoch 44/50\n",
      "656/656 [==============================] - 4s 5ms/step - loss: 0.7509 - val_loss: 0.8072\n",
      "Epoch 45/50\n",
      "656/656 [==============================] - 3s 4ms/step - loss: 0.7514 - val_loss: 0.8283\n",
      "Epoch 46/50\n",
      "656/656 [==============================] - 3s 5ms/step - loss: 0.7421 - val_loss: 0.7930\n",
      "Epoch 47/50\n",
      "656/656 [==============================] - 3s 5ms/step - loss: 0.7481 - val_loss: 0.7908\n",
      "Epoch 48/50\n",
      "656/656 [==============================] - 2s 3ms/step - loss: 0.7483 - val_loss: 0.7902\n",
      "Epoch 49/50\n",
      "656/656 [==============================] - 2s 3ms/step - loss: 0.7480 - val_loss: 0.8221\n",
      "Epoch 50/50\n",
      "656/656 [==============================] - 3s 5ms/step - loss: 0.7578 - val_loss: 0.8203\n",
      "----------------\n",
      "ROC-AUC: 43.8366\n",
      "PR-AUC (In/Out): 35.1051 / 56.7518\n",
      "FPR (95% TPR): 95.59%\n",
      "Detection Error: 49.99%\n",
      "Running: ECOD\n",
      "-----------------------\n",
      "The candidate hyper-parameter of ECOD: None,  corresponding metric: None  the best candidate: None\n",
      "best param: None\n"
     ]
    },
    {
     "name": "stderr",
     "output_type": "stream",
     "text": [
      "/home/amahmood/.local/lib/python3.8/site-packages/pyod/models/base.py:431: UserWarning: y should not be presented in unsupervised learning.\n",
      "  warnings.warn(\n"
     ]
    },
    {
     "name": "stdout",
     "output_type": "stream",
     "text": [
      "----------------\n",
      "ROC-AUC: 37.9839\n",
      "PR-AUC (In/Out): 32.7487 / 51.7503\n",
      "FPR (95% TPR): 98.40%\n",
      "Detection Error: 49.99%\n"
     ]
    },
    {
     "data": {
      "image/png": "[encoded data removed]",
      "text/plain": [
       "<Figure size 1152x288 with 2 Axes>"
      ]
     },
     "metadata": {
      "needs_background": "light"
     },
     "output_type": "display_data"
    },
    {
     "data": {
      "image/png": "[encoded data removed]",
      "text/plain": [
       "<Figure size 1152x288 with 2 Axes>"
      ]
     },
     "metadata": {
      "needs_background": "light"
     },
     "output_type": "display_data"
    },
    {
     "data": {
      "image/png": "[encoded data removed]",
      "text/plain": [
       "<Figure size 1152x288 with 2 Axes>"
      ]
     },
     "metadata": {
      "needs_background": "light"
     },
     "output_type": "display_data"
    }
   ],
   "source": [
    "# seed for reproducible results\n",
    "seed = 42\n",
    "name, clf = 'IForest', PYOD\n",
    "model_scores = {}\n",
    "\n",
    "for name, clf in model_dict.items():\n",
    "        print(f\"Running: {name}\")\n",
    "        print(\"-----------------------\")\n",
    "        \n",
    "        # model initialization\n",
    "        clf = clf(seed=seed, model_name=name, tune=True)\n",
    "        \n",
    "        # training, for unsupervised models the y label will be discarded\n",
    "        clf = clf.fit(X_train=X_test[::2], y_train=y_labels[::2], ratio=0.2)\n",
    "        \n",
    "        # output predicted anomaly score on testing set\n",
    "        score = clf.predict_score(X_test[1::2])\n",
    "\n",
    "        # evaluation\n",
    "        results = ood_metrics(score[y_labels[1::2]==0], score[y_labels[1::2]==1], plot=True, verbose=True)\n",
    "        \n",
    "        # save results\n",
    "        \n",
    "        model_scores[name] = score\n",
    "        df_metrics.loc[name, :] = results\n",
    "        df_metrics.loc[name, :] *= 100"
   ]
  },
  {
   "cell_type": "code",
   "execution_count": null,
   "id": "878afa72-11f1-4fe2-a31c-5133b6748202",
   "metadata": {},
   "outputs": [],
   "source": []
  },
  {
   "cell_type": "code",
   "execution_count": 145,
   "id": "bb96656b-3d96-477a-9b43-13e60c53b091",
   "metadata": {},
   "outputs": [
    {
     "name": "stdout",
     "output_type": "stream",
     "text": [
      "Running: DAGMM\n",
      "-----------------------\n",
      "using the params: 4\n"
     ]
    }
   ],
   "source": [
    "# seed for reproducible results\n",
    "seed = 42\n",
    "name, clf = 'DAGMM', DAGMM\n",
    "\n",
    "print(f\"Running: {name}\")\n",
    "print(\"-----------------------\")\n",
    "\n",
    "# model initialization\n",
    "clf = clf(seed=seed, model_name=name, tune=False)\n",
    "\n",
    "# training, for unsupervised models the y label will be discarded\n",
    "clf = clf.fit(X_train=X_val, y_train=y_train[:len(X_val)], ratio=0.2)"
   ]
  },
  {
   "cell_type": "code",
   "execution_count": 156,
   "id": "d21f3379-cdaa-47c8-84d5-efa003112077",
   "metadata": {},
   "outputs": [],
   "source": [
    "# DAGMM, modded_DAGMM"
   ]
  },
  {
   "cell_type": "code",
   "execution_count": 150,
   "id": "a71a74b6-f089-418f-b8ee-a744fe2de9f5",
   "metadata": {},
   "outputs": [
    {
     "data": {
      "text/plain": [
       "=================================================================\n",
       "Layer (type:depth-idx)                   Param #\n",
       "=================================================================\n",
       "DAGMM                                    --\n",
       "├─Linear: 1-1                            24,120\n",
       "├─Linear: 1-2                            1,830\n",
       "├─Linear: 1-3                            310\n",
       "├─Linear: 1-4                            11\n",
       "├─Linear: 1-5                            20\n",
       "├─Linear: 1-6                            330\n",
       "├─Linear: 1-7                            1,860\n",
       "├─Linear: 1-8                            24,461\n",
       "├─Linear: 1-9                            40\n",
       "├─Linear: 1-10                           44\n",
       "=================================================================\n",
       "Total params: 53,026\n",
       "Trainable params: 53,026\n",
       "Non-trainable params: 0\n",
       "================================================================="
      ]
     },
     "execution_count": 150,
     "metadata": {},
     "output_type": "execute_result"
    }
   ],
   "source": [
    "summary(clf.model.model)"
   ]
  },
  {
   "cell_type": "code",
   "execution_count": 146,
   "id": "cc71545e-ecb0-45f1-87fb-723f96ba816f",
   "metadata": {},
   "outputs": [
    {
     "name": "stdout",
     "output_type": "stream",
     "text": [
      "Testing...\n",
      "----------------\n",
      "ROC-AUC: 46.9606\n",
      "PR-AUC (In/Out): 37.3567 / 57.9481\n",
      "FPR (95% TPR): 96.03%\n",
      "Detection Error: 49.96%\n"
     ]
    },
    {
     "data": {
      "image/png": "[encoded data removed]",
      "text/plain": [
       "<Figure size 1152x288 with 2 Axes>"
      ]
     },
     "metadata": {
      "needs_background": "light"
     },
     "output_type": "display_data"
    }
   ],
   "source": [
    "# output predicted anomaly score on testing set\n",
    "score = clf.predict_score(X_train, X_test[1::2])\n",
    "\n",
    "# evaluation\n",
    "results = ood_metrics(score[y_labels[1::2]==0], score[y_labels[1::2]==1], plot=True, verbose=True)\n",
    "\n",
    "# save results\n",
    "\n",
    "model_scores[name] = score\n",
    "df_metrics.loc[name, :] = results\n",
    "df_metrics.loc[name, :] *= 100"
   ]
  },
  {
   "cell_type": "code",
   "execution_count": 134,
   "id": "f9bb1c7f-4431-4456-b2b7-eca79852c073",
   "metadata": {},
   "outputs": [
    {
     "data": {
      "text/plain": [
       "<AxesSubplot:>"
      ]
     },
     "execution_count": 134,
     "metadata": {},
     "output_type": "execute_result"
    },
    {
     "data": {
      "image/png": "[encoded data removed]",
      "text/plain": [
       "<Figure size 432x288 with 1 Axes>"
      ]
     },
     "metadata": {
      "needs_background": "light"
     },
     "output_type": "display_data"
    }
   ],
   "source": [
    "df_metrics[[\"ap\",\"roc_auc\"]].T.plot(kind=\"bar\")"
   ]
  },
  {
   "cell_type": "code",
   "execution_count": 133,
   "id": "4cfd2e85-6248-4368-9249-fec086c1b9ac",
   "metadata": {},
   "outputs": [
    {
     "data": {
      "text/plain": [
       "<AxesSubplot:>"
      ]
     },
     "execution_count": 133,
     "metadata": {},
     "output_type": "execute_result"
    },
    {
     "data": {
      "image/png": "[encoded data removed]",
      "text/plain": [
       "<Figure size 432x288 with 1 Axes>"
      ]
     },
     "metadata": {
      "needs_background": "light"
     },
     "output_type": "display_data"
    }
   ],
   "source": [
    "df_metrics[[\"de\",\"fpr_tpr95\"]].T.plot(kind=\"bar\")"
   ]
  },
  {
   "cell_type": "markdown",
   "id": "a4edec99-a873-46b1-9acc-35cb41a080e2",
   "metadata": {},
   "source": [
    "### Training PyOD on score norms"
   ]
  },
  {
   "cell_type": "code",
   "execution_count": 125,
   "id": "93b1ded3-c04b-4efd-9d77-fc67b20c6486",
   "metadata": {},
   "outputs": [],
   "source": [
    "#TODO: USE PYOD MODELS!\n",
    "ckpt_num = -1\n",
    "denoise = config.msma.denoise\n",
    "ckpt_dir = os.path.join(workdir, \"checkpoints\")\n",
    "ckpts = sorted(os.listdir(ckpt_dir))\n",
    "ckpt = ckpts[ckpt_num]\n",
    "step = ckpt.split(\"-\")[0]\n",
    "fname = os.path.join(\n",
    "        workdir, \"score_norms\", f\"{step}-{'denoise' if denoise else ''}-score_norms.npz\"\n",
    "    )\n",
    "with np.load(fname, allow_pickle=True) as npzfile:\n",
    "    outdict = {k: npzfile[k].item() for k in npzfile.files}\n",
    "\n",
    "\n",
    "score_norm_train = outdict[\"val\"][\"score_norms\"]\n",
    "test_labels = outdict[\"test\"][\"labels\"][::2]\n",
    "score_norm_test = outdict[\"test\"][\"score_norms\"][::2]"
   ]
  },
  {
   "cell_type": "code",
   "execution_count": 127,
   "id": "8d3b0d20-2f79-4dc4-9532-34e03193ca17",
   "metadata": {},
   "outputs": [
    {
     "data": {
      "text/plain": [
       "((28072, 10), (23320, 10), (23320,))"
      ]
     },
     "execution_count": 127,
     "metadata": {},
     "output_type": "execute_result"
    }
   ],
   "source": [
    "score_norm_train.shape, score_norm_test.shape, test_labels.shape, "
   ]
  },
  {
   "cell_type": "code",
   "execution_count": 129,
   "id": "dfcd86ff-0c05-45f6-b9d5-f82433a2f5e7",
   "metadata": {},
   "outputs": [],
   "source": [
    "from pyod.models.knn import KNN"
   ]
  },
  {
   "cell_type": "code",
   "execution_count": 130,
   "id": "ee714f33-4e29-4c2b-96ed-835a9d3f1102",
   "metadata": {},
   "outputs": [
    {
     "name": "stdout",
     "output_type": "stream",
     "text": [
      "----------------\n",
      "ROC-AUC: 70.2278\n",
      "PR-AUC (In/Out): 55.4991 / 79.5256\n",
      "FPR (95% TPR): 71.77%\n",
      "Detection Error: 34.69%\n"
     ]
    },
    {
     "data": {
      "text/plain": [
       "{'fpr_tpr95': 0.7177258478198917,\n",
       " 'de': 0.34690619517314314,\n",
       " 'roc_auc': 0.7022784413293618,\n",
       " 'pr_auc_in': 0.5549912544099016,\n",
       " 'pr_auc_out': 0.7952559431905647,\n",
       " 'fpr_tpr80': 0.48624964377315477,\n",
       " 'ap': 0.55509598736233}"
      ]
     },
     "execution_count": 130,
     "metadata": {},
     "output_type": "execute_result"
    },
    {
     "data": {
      "image/png": "[encoded data removed]",
      "text/plain": [
       "<Figure size 1152x288 with 2 Axes>"
      ]
     },
     "metadata": {
      "needs_background": "light"
     },
     "output_type": "display_data"
    }
   ],
   "source": [
    "clf = KNN()\n",
    "clf.fit(score_norm_train)\n",
    "\n",
    "# get outlier scores\n",
    "y_train_scores = clf.decision_scores_  # raw outlier scores on the train data\n",
    "y_test_scores = clf.decision_function(score_norm_test)  # predict raw outlier scores on test\n",
    "ood_metrics(y_test_scores[test_labels==0], y_test_scores[test_labels==1], plot=True, verbose=True)"
   ]
  }
 ],
 "metadata": {
  "kernelspec": {
   "display_name": "Python 3 (ipykernel)",
   "language": "python",
   "name": "python3"
  },
  "language_info": {
   "codemirror_mode": {
    "name": "ipython",
    "version": 3
   },
   "file_extension": ".py",
   "mimetype": "text/x-python",
   "name": "python",
   "nbconvert_exporter": "python",
   "pygments_lexer": "ipython3",
   "version": "3.8.13"
  },
  "vscode": {
   "interpreter": {
    "hash": "d4d1e4263499bec80672ea0156c357c1ee493ec2b1c70f0acce89fc37c4a6abe"
   }
  }
 },
 "nbformat": 4,
 "nbformat_minor": 5
}
